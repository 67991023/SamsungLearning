{
  "nbformat": 4,
  "nbformat_minor": 0,
  "metadata": {
    "colab": {
      "provenance": [],
      "gpuType": "T4"
    },
    "kernelspec": {
      "name": "python3",
      "display_name": "Python 3"
    },
    "language_info": {
      "name": "python"
    },
    "widgets": {
      "application/vnd.jupyter.widget-state+json": {
        "78cb2da08a534ab2bce6fdfa536d16f7": {
          "model_module": "@jupyter-widgets/controls",
          "model_name": "VBoxModel",
          "model_module_version": "1.5.0",
          "state": {
            "_dom_classes": [],
            "_model_module": "@jupyter-widgets/controls",
            "_model_module_version": "1.5.0",
            "_model_name": "VBoxModel",
            "_view_count": null,
            "_view_module": "@jupyter-widgets/controls",
            "_view_module_version": "1.5.0",
            "_view_name": "VBoxView",
            "box_style": "",
            "children": [],
            "layout": "IPY_MODEL_b9c796fca3c04e489bfb5333368cf146"
          }
        },
        "d5f32614298f4ca78152b36fe5d222bb": {
          "model_module": "@jupyter-widgets/controls",
          "model_name": "HTMLModel",
          "model_module_version": "1.5.0",
          "state": {
            "_dom_classes": [],
            "_model_module": "@jupyter-widgets/controls",
            "_model_module_version": "1.5.0",
            "_model_name": "HTMLModel",
            "_view_count": null,
            "_view_module": "@jupyter-widgets/controls",
            "_view_module_version": "1.5.0",
            "_view_name": "HTMLView",
            "description": "",
            "description_tooltip": null,
            "layout": "IPY_MODEL_9cc32b80745e4179a0e6748e0a56507b",
            "placeholder": "​",
            "style": "IPY_MODEL_4e40173551394f269611a580d581dcee",
            "value": "<center> <img\nsrc=https://huggingface.co/front/assets/huggingface_logo-noborder.svg\nalt='Hugging Face'> <br> Copy a token from <a\nhref=\"https://huggingface.co/settings/tokens\" target=\"_blank\">your Hugging Face\ntokens page</a> and paste it below. <br> Immediately click login after copying\nyour token or it might be stored in plain text in this notebook file. </center>"
          }
        },
        "8f7bc1db9bea427a8329bbbdf36eef88": {
          "model_module": "@jupyter-widgets/controls",
          "model_name": "PasswordModel",
          "model_module_version": "1.5.0",
          "state": {
            "_dom_classes": [],
            "_model_module": "@jupyter-widgets/controls",
            "_model_module_version": "1.5.0",
            "_model_name": "PasswordModel",
            "_view_count": null,
            "_view_module": "@jupyter-widgets/controls",
            "_view_module_version": "1.5.0",
            "_view_name": "PasswordView",
            "continuous_update": true,
            "description": "Token:",
            "description_tooltip": null,
            "disabled": false,
            "layout": "IPY_MODEL_f272fbdd69e24de1abe33938c3ae89d4",
            "placeholder": "​",
            "style": "IPY_MODEL_1c8942151d9c447dad032c75359a5e96",
            "value": ""
          }
        },
        "a157b69a415448e997b38c2575523c73": {
          "model_module": "@jupyter-widgets/controls",
          "model_name": "CheckboxModel",
          "model_module_version": "1.5.0",
          "state": {
            "_dom_classes": [],
            "_model_module": "@jupyter-widgets/controls",
            "_model_module_version": "1.5.0",
            "_model_name": "CheckboxModel",
            "_view_count": null,
            "_view_module": "@jupyter-widgets/controls",
            "_view_module_version": "1.5.0",
            "_view_name": "CheckboxView",
            "description": "Add token as git credential?",
            "description_tooltip": null,
            "disabled": false,
            "indent": true,
            "layout": "IPY_MODEL_66681b5a5ad341459aa19c23a40e42e5",
            "style": "IPY_MODEL_218ef631ec804e3d8a8721abd516cc3e",
            "value": true
          }
        },
        "0237bee1a5d4472ea394bab6c816f4cb": {
          "model_module": "@jupyter-widgets/controls",
          "model_name": "ButtonModel",
          "model_module_version": "1.5.0",
          "state": {
            "_dom_classes": [],
            "_model_module": "@jupyter-widgets/controls",
            "_model_module_version": "1.5.0",
            "_model_name": "ButtonModel",
            "_view_count": null,
            "_view_module": "@jupyter-widgets/controls",
            "_view_module_version": "1.5.0",
            "_view_name": "ButtonView",
            "button_style": "",
            "description": "Login",
            "disabled": false,
            "icon": "",
            "layout": "IPY_MODEL_095cec2c6a2144909452bffb6b9f0e49",
            "style": "IPY_MODEL_c76be5f3a71c42c692df6aaff88421c4",
            "tooltip": ""
          }
        },
        "6c93cf36d4144760a7b85d951bb8ebb5": {
          "model_module": "@jupyter-widgets/controls",
          "model_name": "HTMLModel",
          "model_module_version": "1.5.0",
          "state": {
            "_dom_classes": [],
            "_model_module": "@jupyter-widgets/controls",
            "_model_module_version": "1.5.0",
            "_model_name": "HTMLModel",
            "_view_count": null,
            "_view_module": "@jupyter-widgets/controls",
            "_view_module_version": "1.5.0",
            "_view_name": "HTMLView",
            "description": "",
            "description_tooltip": null,
            "layout": "IPY_MODEL_64f7db94cb3f432688d5936f2bc045d5",
            "placeholder": "​",
            "style": "IPY_MODEL_f50432536e244ae697174aa79661d47b",
            "value": "\n<b>Pro Tip:</b> If you don't already have one, you can create a dedicated\n'notebooks' token with 'write' access, that you can then easily reuse for all\nnotebooks. </center>"
          }
        },
        "b9c796fca3c04e489bfb5333368cf146": {
          "model_module": "@jupyter-widgets/base",
          "model_name": "LayoutModel",
          "model_module_version": "1.2.0",
          "state": {
            "_model_module": "@jupyter-widgets/base",
            "_model_module_version": "1.2.0",
            "_model_name": "LayoutModel",
            "_view_count": null,
            "_view_module": "@jupyter-widgets/base",
            "_view_module_version": "1.2.0",
            "_view_name": "LayoutView",
            "align_content": null,
            "align_items": "center",
            "align_self": null,
            "border": null,
            "bottom": null,
            "display": "flex",
            "flex": null,
            "flex_flow": "column",
            "grid_area": null,
            "grid_auto_columns": null,
            "grid_auto_flow": null,
            "grid_auto_rows": null,
            "grid_column": null,
            "grid_gap": null,
            "grid_row": null,
            "grid_template_areas": null,
            "grid_template_columns": null,
            "grid_template_rows": null,
            "height": null,
            "justify_content": null,
            "justify_items": null,
            "left": null,
            "margin": null,
            "max_height": null,
            "max_width": null,
            "min_height": null,
            "min_width": null,
            "object_fit": null,
            "object_position": null,
            "order": null,
            "overflow": null,
            "overflow_x": null,
            "overflow_y": null,
            "padding": null,
            "right": null,
            "top": null,
            "visibility": null,
            "width": "50%"
          }
        },
        "9cc32b80745e4179a0e6748e0a56507b": {
          "model_module": "@jupyter-widgets/base",
          "model_name": "LayoutModel",
          "model_module_version": "1.2.0",
          "state": {
            "_model_module": "@jupyter-widgets/base",
            "_model_module_version": "1.2.0",
            "_model_name": "LayoutModel",
            "_view_count": null,
            "_view_module": "@jupyter-widgets/base",
            "_view_module_version": "1.2.0",
            "_view_name": "LayoutView",
            "align_content": null,
            "align_items": null,
            "align_self": null,
            "border": null,
            "bottom": null,
            "display": null,
            "flex": null,
            "flex_flow": null,
            "grid_area": null,
            "grid_auto_columns": null,
            "grid_auto_flow": null,
            "grid_auto_rows": null,
            "grid_column": null,
            "grid_gap": null,
            "grid_row": null,
            "grid_template_areas": null,
            "grid_template_columns": null,
            "grid_template_rows": null,
            "height": null,
            "justify_content": null,
            "justify_items": null,
            "left": null,
            "margin": null,
            "max_height": null,
            "max_width": null,
            "min_height": null,
            "min_width": null,
            "object_fit": null,
            "object_position": null,
            "order": null,
            "overflow": null,
            "overflow_x": null,
            "overflow_y": null,
            "padding": null,
            "right": null,
            "top": null,
            "visibility": null,
            "width": null
          }
        },
        "4e40173551394f269611a580d581dcee": {
          "model_module": "@jupyter-widgets/controls",
          "model_name": "DescriptionStyleModel",
          "model_module_version": "1.5.0",
          "state": {
            "_model_module": "@jupyter-widgets/controls",
            "_model_module_version": "1.5.0",
            "_model_name": "DescriptionStyleModel",
            "_view_count": null,
            "_view_module": "@jupyter-widgets/base",
            "_view_module_version": "1.2.0",
            "_view_name": "StyleView",
            "description_width": ""
          }
        },
        "f272fbdd69e24de1abe33938c3ae89d4": {
          "model_module": "@jupyter-widgets/base",
          "model_name": "LayoutModel",
          "model_module_version": "1.2.0",
          "state": {
            "_model_module": "@jupyter-widgets/base",
            "_model_module_version": "1.2.0",
            "_model_name": "LayoutModel",
            "_view_count": null,
            "_view_module": "@jupyter-widgets/base",
            "_view_module_version": "1.2.0",
            "_view_name": "LayoutView",
            "align_content": null,
            "align_items": null,
            "align_self": null,
            "border": null,
            "bottom": null,
            "display": null,
            "flex": null,
            "flex_flow": null,
            "grid_area": null,
            "grid_auto_columns": null,
            "grid_auto_flow": null,
            "grid_auto_rows": null,
            "grid_column": null,
            "grid_gap": null,
            "grid_row": null,
            "grid_template_areas": null,
            "grid_template_columns": null,
            "grid_template_rows": null,
            "height": null,
            "justify_content": null,
            "justify_items": null,
            "left": null,
            "margin": null,
            "max_height": null,
            "max_width": null,
            "min_height": null,
            "min_width": null,
            "object_fit": null,
            "object_position": null,
            "order": null,
            "overflow": null,
            "overflow_x": null,
            "overflow_y": null,
            "padding": null,
            "right": null,
            "top": null,
            "visibility": null,
            "width": null
          }
        },
        "1c8942151d9c447dad032c75359a5e96": {
          "model_module": "@jupyter-widgets/controls",
          "model_name": "DescriptionStyleModel",
          "model_module_version": "1.5.0",
          "state": {
            "_model_module": "@jupyter-widgets/controls",
            "_model_module_version": "1.5.0",
            "_model_name": "DescriptionStyleModel",
            "_view_count": null,
            "_view_module": "@jupyter-widgets/base",
            "_view_module_version": "1.2.0",
            "_view_name": "StyleView",
            "description_width": ""
          }
        },
        "66681b5a5ad341459aa19c23a40e42e5": {
          "model_module": "@jupyter-widgets/base",
          "model_name": "LayoutModel",
          "model_module_version": "1.2.0",
          "state": {
            "_model_module": "@jupyter-widgets/base",
            "_model_module_version": "1.2.0",
            "_model_name": "LayoutModel",
            "_view_count": null,
            "_view_module": "@jupyter-widgets/base",
            "_view_module_version": "1.2.0",
            "_view_name": "LayoutView",
            "align_content": null,
            "align_items": null,
            "align_self": null,
            "border": null,
            "bottom": null,
            "display": null,
            "flex": null,
            "flex_flow": null,
            "grid_area": null,
            "grid_auto_columns": null,
            "grid_auto_flow": null,
            "grid_auto_rows": null,
            "grid_column": null,
            "grid_gap": null,
            "grid_row": null,
            "grid_template_areas": null,
            "grid_template_columns": null,
            "grid_template_rows": null,
            "height": null,
            "justify_content": null,
            "justify_items": null,
            "left": null,
            "margin": null,
            "max_height": null,
            "max_width": null,
            "min_height": null,
            "min_width": null,
            "object_fit": null,
            "object_position": null,
            "order": null,
            "overflow": null,
            "overflow_x": null,
            "overflow_y": null,
            "padding": null,
            "right": null,
            "top": null,
            "visibility": null,
            "width": null
          }
        },
        "218ef631ec804e3d8a8721abd516cc3e": {
          "model_module": "@jupyter-widgets/controls",
          "model_name": "DescriptionStyleModel",
          "model_module_version": "1.5.0",
          "state": {
            "_model_module": "@jupyter-widgets/controls",
            "_model_module_version": "1.5.0",
            "_model_name": "DescriptionStyleModel",
            "_view_count": null,
            "_view_module": "@jupyter-widgets/base",
            "_view_module_version": "1.2.0",
            "_view_name": "StyleView",
            "description_width": ""
          }
        },
        "095cec2c6a2144909452bffb6b9f0e49": {
          "model_module": "@jupyter-widgets/base",
          "model_name": "LayoutModel",
          "model_module_version": "1.2.0",
          "state": {
            "_model_module": "@jupyter-widgets/base",
            "_model_module_version": "1.2.0",
            "_model_name": "LayoutModel",
            "_view_count": null,
            "_view_module": "@jupyter-widgets/base",
            "_view_module_version": "1.2.0",
            "_view_name": "LayoutView",
            "align_content": null,
            "align_items": null,
            "align_self": null,
            "border": null,
            "bottom": null,
            "display": null,
            "flex": null,
            "flex_flow": null,
            "grid_area": null,
            "grid_auto_columns": null,
            "grid_auto_flow": null,
            "grid_auto_rows": null,
            "grid_column": null,
            "grid_gap": null,
            "grid_row": null,
            "grid_template_areas": null,
            "grid_template_columns": null,
            "grid_template_rows": null,
            "height": null,
            "justify_content": null,
            "justify_items": null,
            "left": null,
            "margin": null,
            "max_height": null,
            "max_width": null,
            "min_height": null,
            "min_width": null,
            "object_fit": null,
            "object_position": null,
            "order": null,
            "overflow": null,
            "overflow_x": null,
            "overflow_y": null,
            "padding": null,
            "right": null,
            "top": null,
            "visibility": null,
            "width": null
          }
        },
        "c76be5f3a71c42c692df6aaff88421c4": {
          "model_module": "@jupyter-widgets/controls",
          "model_name": "ButtonStyleModel",
          "model_module_version": "1.5.0",
          "state": {
            "_model_module": "@jupyter-widgets/controls",
            "_model_module_version": "1.5.0",
            "_model_name": "ButtonStyleModel",
            "_view_count": null,
            "_view_module": "@jupyter-widgets/base",
            "_view_module_version": "1.2.0",
            "_view_name": "StyleView",
            "button_color": null,
            "font_weight": ""
          }
        },
        "64f7db94cb3f432688d5936f2bc045d5": {
          "model_module": "@jupyter-widgets/base",
          "model_name": "LayoutModel",
          "model_module_version": "1.2.0",
          "state": {
            "_model_module": "@jupyter-widgets/base",
            "_model_module_version": "1.2.0",
            "_model_name": "LayoutModel",
            "_view_count": null,
            "_view_module": "@jupyter-widgets/base",
            "_view_module_version": "1.2.0",
            "_view_name": "LayoutView",
            "align_content": null,
            "align_items": null,
            "align_self": null,
            "border": null,
            "bottom": null,
            "display": null,
            "flex": null,
            "flex_flow": null,
            "grid_area": null,
            "grid_auto_columns": null,
            "grid_auto_flow": null,
            "grid_auto_rows": null,
            "grid_column": null,
            "grid_gap": null,
            "grid_row": null,
            "grid_template_areas": null,
            "grid_template_columns": null,
            "grid_template_rows": null,
            "height": null,
            "justify_content": null,
            "justify_items": null,
            "left": null,
            "margin": null,
            "max_height": null,
            "max_width": null,
            "min_height": null,
            "min_width": null,
            "object_fit": null,
            "object_position": null,
            "order": null,
            "overflow": null,
            "overflow_x": null,
            "overflow_y": null,
            "padding": null,
            "right": null,
            "top": null,
            "visibility": null,
            "width": null
          }
        },
        "f50432536e244ae697174aa79661d47b": {
          "model_module": "@jupyter-widgets/controls",
          "model_name": "DescriptionStyleModel",
          "model_module_version": "1.5.0",
          "state": {
            "_model_module": "@jupyter-widgets/controls",
            "_model_module_version": "1.5.0",
            "_model_name": "DescriptionStyleModel",
            "_view_count": null,
            "_view_module": "@jupyter-widgets/base",
            "_view_module_version": "1.2.0",
            "_view_name": "StyleView",
            "description_width": ""
          }
        },
        "ad095a28cac14f2587c654f69e52aee8": {
          "model_module": "@jupyter-widgets/controls",
          "model_name": "LabelModel",
          "model_module_version": "1.5.0",
          "state": {
            "_dom_classes": [],
            "_model_module": "@jupyter-widgets/controls",
            "_model_module_version": "1.5.0",
            "_model_name": "LabelModel",
            "_view_count": null,
            "_view_module": "@jupyter-widgets/controls",
            "_view_module_version": "1.5.0",
            "_view_name": "LabelView",
            "description": "",
            "description_tooltip": null,
            "layout": "IPY_MODEL_e7dc9f82387a4e90a7a330cd7ed6a2d7",
            "placeholder": "​",
            "style": "IPY_MODEL_ebee267a8e974d598ae4e8be84d56243",
            "value": "Connecting..."
          }
        },
        "e7dc9f82387a4e90a7a330cd7ed6a2d7": {
          "model_module": "@jupyter-widgets/base",
          "model_name": "LayoutModel",
          "model_module_version": "1.2.0",
          "state": {
            "_model_module": "@jupyter-widgets/base",
            "_model_module_version": "1.2.0",
            "_model_name": "LayoutModel",
            "_view_count": null,
            "_view_module": "@jupyter-widgets/base",
            "_view_module_version": "1.2.0",
            "_view_name": "LayoutView",
            "align_content": null,
            "align_items": null,
            "align_self": null,
            "border": null,
            "bottom": null,
            "display": null,
            "flex": null,
            "flex_flow": null,
            "grid_area": null,
            "grid_auto_columns": null,
            "grid_auto_flow": null,
            "grid_auto_rows": null,
            "grid_column": null,
            "grid_gap": null,
            "grid_row": null,
            "grid_template_areas": null,
            "grid_template_columns": null,
            "grid_template_rows": null,
            "height": null,
            "justify_content": null,
            "justify_items": null,
            "left": null,
            "margin": null,
            "max_height": null,
            "max_width": null,
            "min_height": null,
            "min_width": null,
            "object_fit": null,
            "object_position": null,
            "order": null,
            "overflow": null,
            "overflow_x": null,
            "overflow_y": null,
            "padding": null,
            "right": null,
            "top": null,
            "visibility": null,
            "width": null
          }
        },
        "ebee267a8e974d598ae4e8be84d56243": {
          "model_module": "@jupyter-widgets/controls",
          "model_name": "DescriptionStyleModel",
          "model_module_version": "1.5.0",
          "state": {
            "_model_module": "@jupyter-widgets/controls",
            "_model_module_version": "1.5.0",
            "_model_name": "DescriptionStyleModel",
            "_view_count": null,
            "_view_module": "@jupyter-widgets/base",
            "_view_module_version": "1.2.0",
            "_view_name": "StyleView",
            "description_width": ""
          }
        },
        "e47cd93495344de0802d3bcb20a9603a": {
          "model_module": "@jupyter-widgets/controls",
          "model_name": "HBoxModel",
          "model_module_version": "1.5.0",
          "state": {
            "_dom_classes": [],
            "_model_module": "@jupyter-widgets/controls",
            "_model_module_version": "1.5.0",
            "_model_name": "HBoxModel",
            "_view_count": null,
            "_view_module": "@jupyter-widgets/controls",
            "_view_module_version": "1.5.0",
            "_view_name": "HBoxView",
            "box_style": "",
            "children": [
              "IPY_MODEL_52fbafb447a44ba79e58eddd40303ffb",
              "IPY_MODEL_7e752515aff9442caa299c7827a567f7",
              "IPY_MODEL_a8fe05407ee8485fb402bcce9353d895"
            ],
            "layout": "IPY_MODEL_6443fa52d25247fc82c9261673144251"
          }
        },
        "52fbafb447a44ba79e58eddd40303ffb": {
          "model_module": "@jupyter-widgets/controls",
          "model_name": "HTMLModel",
          "model_module_version": "1.5.0",
          "state": {
            "_dom_classes": [],
            "_model_module": "@jupyter-widgets/controls",
            "_model_module_version": "1.5.0",
            "_model_name": "HTMLModel",
            "_view_count": null,
            "_view_module": "@jupyter-widgets/controls",
            "_view_module_version": "1.5.0",
            "_view_name": "HTMLView",
            "description": "",
            "description_tooltip": null,
            "layout": "IPY_MODEL_bf73c5d575df431ea1b871c7033b0593",
            "placeholder": "​",
            "style": "IPY_MODEL_2735207b2a2a4908802d7514718e6f67",
            "value": "tokenizer_config.json: 100%"
          }
        },
        "7e752515aff9442caa299c7827a567f7": {
          "model_module": "@jupyter-widgets/controls",
          "model_name": "FloatProgressModel",
          "model_module_version": "1.5.0",
          "state": {
            "_dom_classes": [],
            "_model_module": "@jupyter-widgets/controls",
            "_model_module_version": "1.5.0",
            "_model_name": "FloatProgressModel",
            "_view_count": null,
            "_view_module": "@jupyter-widgets/controls",
            "_view_module_version": "1.5.0",
            "_view_name": "ProgressView",
            "bar_style": "success",
            "description": "",
            "description_tooltip": null,
            "layout": "IPY_MODEL_06cd94e0aeac468aaf1782bb587ad6de",
            "max": 54528,
            "min": 0,
            "orientation": "horizontal",
            "style": "IPY_MODEL_29d01b52fe1c4dc6b256078de02164af",
            "value": 54528
          }
        },
        "a8fe05407ee8485fb402bcce9353d895": {
          "model_module": "@jupyter-widgets/controls",
          "model_name": "HTMLModel",
          "model_module_version": "1.5.0",
          "state": {
            "_dom_classes": [],
            "_model_module": "@jupyter-widgets/controls",
            "_model_module_version": "1.5.0",
            "_model_name": "HTMLModel",
            "_view_count": null,
            "_view_module": "@jupyter-widgets/controls",
            "_view_module_version": "1.5.0",
            "_view_name": "HTMLView",
            "description": "",
            "description_tooltip": null,
            "layout": "IPY_MODEL_0e6e9e86111d4f9ab2a4c56bda2381ea",
            "placeholder": "​",
            "style": "IPY_MODEL_f2edd628d20a4920bb765c569d8bbd31",
            "value": " 54.5k/54.5k [00:00&lt;00:00, 5.18MB/s]"
          }
        },
        "6443fa52d25247fc82c9261673144251": {
          "model_module": "@jupyter-widgets/base",
          "model_name": "LayoutModel",
          "model_module_version": "1.2.0",
          "state": {
            "_model_module": "@jupyter-widgets/base",
            "_model_module_version": "1.2.0",
            "_model_name": "LayoutModel",
            "_view_count": null,
            "_view_module": "@jupyter-widgets/base",
            "_view_module_version": "1.2.0",
            "_view_name": "LayoutView",
            "align_content": null,
            "align_items": null,
            "align_self": null,
            "border": null,
            "bottom": null,
            "display": null,
            "flex": null,
            "flex_flow": null,
            "grid_area": null,
            "grid_auto_columns": null,
            "grid_auto_flow": null,
            "grid_auto_rows": null,
            "grid_column": null,
            "grid_gap": null,
            "grid_row": null,
            "grid_template_areas": null,
            "grid_template_columns": null,
            "grid_template_rows": null,
            "height": null,
            "justify_content": null,
            "justify_items": null,
            "left": null,
            "margin": null,
            "max_height": null,
            "max_width": null,
            "min_height": null,
            "min_width": null,
            "object_fit": null,
            "object_position": null,
            "order": null,
            "overflow": null,
            "overflow_x": null,
            "overflow_y": null,
            "padding": null,
            "right": null,
            "top": null,
            "visibility": null,
            "width": null
          }
        },
        "bf73c5d575df431ea1b871c7033b0593": {
          "model_module": "@jupyter-widgets/base",
          "model_name": "LayoutModel",
          "model_module_version": "1.2.0",
          "state": {
            "_model_module": "@jupyter-widgets/base",
            "_model_module_version": "1.2.0",
            "_model_name": "LayoutModel",
            "_view_count": null,
            "_view_module": "@jupyter-widgets/base",
            "_view_module_version": "1.2.0",
            "_view_name": "LayoutView",
            "align_content": null,
            "align_items": null,
            "align_self": null,
            "border": null,
            "bottom": null,
            "display": null,
            "flex": null,
            "flex_flow": null,
            "grid_area": null,
            "grid_auto_columns": null,
            "grid_auto_flow": null,
            "grid_auto_rows": null,
            "grid_column": null,
            "grid_gap": null,
            "grid_row": null,
            "grid_template_areas": null,
            "grid_template_columns": null,
            "grid_template_rows": null,
            "height": null,
            "justify_content": null,
            "justify_items": null,
            "left": null,
            "margin": null,
            "max_height": null,
            "max_width": null,
            "min_height": null,
            "min_width": null,
            "object_fit": null,
            "object_position": null,
            "order": null,
            "overflow": null,
            "overflow_x": null,
            "overflow_y": null,
            "padding": null,
            "right": null,
            "top": null,
            "visibility": null,
            "width": null
          }
        },
        "2735207b2a2a4908802d7514718e6f67": {
          "model_module": "@jupyter-widgets/controls",
          "model_name": "DescriptionStyleModel",
          "model_module_version": "1.5.0",
          "state": {
            "_model_module": "@jupyter-widgets/controls",
            "_model_module_version": "1.5.0",
            "_model_name": "DescriptionStyleModel",
            "_view_count": null,
            "_view_module": "@jupyter-widgets/base",
            "_view_module_version": "1.2.0",
            "_view_name": "StyleView",
            "description_width": ""
          }
        },
        "06cd94e0aeac468aaf1782bb587ad6de": {
          "model_module": "@jupyter-widgets/base",
          "model_name": "LayoutModel",
          "model_module_version": "1.2.0",
          "state": {
            "_model_module": "@jupyter-widgets/base",
            "_model_module_version": "1.2.0",
            "_model_name": "LayoutModel",
            "_view_count": null,
            "_view_module": "@jupyter-widgets/base",
            "_view_module_version": "1.2.0",
            "_view_name": "LayoutView",
            "align_content": null,
            "align_items": null,
            "align_self": null,
            "border": null,
            "bottom": null,
            "display": null,
            "flex": null,
            "flex_flow": null,
            "grid_area": null,
            "grid_auto_columns": null,
            "grid_auto_flow": null,
            "grid_auto_rows": null,
            "grid_column": null,
            "grid_gap": null,
            "grid_row": null,
            "grid_template_areas": null,
            "grid_template_columns": null,
            "grid_template_rows": null,
            "height": null,
            "justify_content": null,
            "justify_items": null,
            "left": null,
            "margin": null,
            "max_height": null,
            "max_width": null,
            "min_height": null,
            "min_width": null,
            "object_fit": null,
            "object_position": null,
            "order": null,
            "overflow": null,
            "overflow_x": null,
            "overflow_y": null,
            "padding": null,
            "right": null,
            "top": null,
            "visibility": null,
            "width": null
          }
        },
        "29d01b52fe1c4dc6b256078de02164af": {
          "model_module": "@jupyter-widgets/controls",
          "model_name": "ProgressStyleModel",
          "model_module_version": "1.5.0",
          "state": {
            "_model_module": "@jupyter-widgets/controls",
            "_model_module_version": "1.5.0",
            "_model_name": "ProgressStyleModel",
            "_view_count": null,
            "_view_module": "@jupyter-widgets/base",
            "_view_module_version": "1.2.0",
            "_view_name": "StyleView",
            "bar_color": null,
            "description_width": ""
          }
        },
        "0e6e9e86111d4f9ab2a4c56bda2381ea": {
          "model_module": "@jupyter-widgets/base",
          "model_name": "LayoutModel",
          "model_module_version": "1.2.0",
          "state": {
            "_model_module": "@jupyter-widgets/base",
            "_model_module_version": "1.2.0",
            "_model_name": "LayoutModel",
            "_view_count": null,
            "_view_module": "@jupyter-widgets/base",
            "_view_module_version": "1.2.0",
            "_view_name": "LayoutView",
            "align_content": null,
            "align_items": null,
            "align_self": null,
            "border": null,
            "bottom": null,
            "display": null,
            "flex": null,
            "flex_flow": null,
            "grid_area": null,
            "grid_auto_columns": null,
            "grid_auto_flow": null,
            "grid_auto_rows": null,
            "grid_column": null,
            "grid_gap": null,
            "grid_row": null,
            "grid_template_areas": null,
            "grid_template_columns": null,
            "grid_template_rows": null,
            "height": null,
            "justify_content": null,
            "justify_items": null,
            "left": null,
            "margin": null,
            "max_height": null,
            "max_width": null,
            "min_height": null,
            "min_width": null,
            "object_fit": null,
            "object_position": null,
            "order": null,
            "overflow": null,
            "overflow_x": null,
            "overflow_y": null,
            "padding": null,
            "right": null,
            "top": null,
            "visibility": null,
            "width": null
          }
        },
        "f2edd628d20a4920bb765c569d8bbd31": {
          "model_module": "@jupyter-widgets/controls",
          "model_name": "DescriptionStyleModel",
          "model_module_version": "1.5.0",
          "state": {
            "_model_module": "@jupyter-widgets/controls",
            "_model_module_version": "1.5.0",
            "_model_name": "DescriptionStyleModel",
            "_view_count": null,
            "_view_module": "@jupyter-widgets/base",
            "_view_module_version": "1.2.0",
            "_view_name": "StyleView",
            "description_width": ""
          }
        },
        "4453396ac6a044068208148ae85706cb": {
          "model_module": "@jupyter-widgets/controls",
          "model_name": "HBoxModel",
          "model_module_version": "1.5.0",
          "state": {
            "_dom_classes": [],
            "_model_module": "@jupyter-widgets/controls",
            "_model_module_version": "1.5.0",
            "_model_name": "HBoxModel",
            "_view_count": null,
            "_view_module": "@jupyter-widgets/controls",
            "_view_module_version": "1.5.0",
            "_view_name": "HBoxView",
            "box_style": "",
            "children": [
              "IPY_MODEL_fb322bc946e04dc888350d6695f2bfb3",
              "IPY_MODEL_58900013c57e42599d6b81f924ff7939",
              "IPY_MODEL_c8b475429ec34e798f15dc0407662600"
            ],
            "layout": "IPY_MODEL_5c5237d026df4670b9e310904210b796"
          }
        },
        "fb322bc946e04dc888350d6695f2bfb3": {
          "model_module": "@jupyter-widgets/controls",
          "model_name": "HTMLModel",
          "model_module_version": "1.5.0",
          "state": {
            "_dom_classes": [],
            "_model_module": "@jupyter-widgets/controls",
            "_model_module_version": "1.5.0",
            "_model_name": "HTMLModel",
            "_view_count": null,
            "_view_module": "@jupyter-widgets/controls",
            "_view_module_version": "1.5.0",
            "_view_name": "HTMLView",
            "description": "",
            "description_tooltip": null,
            "layout": "IPY_MODEL_f40d4239e14f4025adb7c64a5fb640b4",
            "placeholder": "​",
            "style": "IPY_MODEL_e544759e63ce4bb0ac286724b3975d97",
            "value": "tokenizer.json: 100%"
          }
        },
        "58900013c57e42599d6b81f924ff7939": {
          "model_module": "@jupyter-widgets/controls",
          "model_name": "FloatProgressModel",
          "model_module_version": "1.5.0",
          "state": {
            "_dom_classes": [],
            "_model_module": "@jupyter-widgets/controls",
            "_model_module_version": "1.5.0",
            "_model_name": "FloatProgressModel",
            "_view_count": null,
            "_view_module": "@jupyter-widgets/controls",
            "_view_module_version": "1.5.0",
            "_view_name": "ProgressView",
            "bar_style": "success",
            "description": "",
            "description_tooltip": null,
            "layout": "IPY_MODEL_fe795e8313d54a4ca5f76f0374d09c8d",
            "max": 9085657,
            "min": 0,
            "orientation": "horizontal",
            "style": "IPY_MODEL_969c5b1d874445b3a8f14df1e96074f7",
            "value": 9085657
          }
        },
        "c8b475429ec34e798f15dc0407662600": {
          "model_module": "@jupyter-widgets/controls",
          "model_name": "HTMLModel",
          "model_module_version": "1.5.0",
          "state": {
            "_dom_classes": [],
            "_model_module": "@jupyter-widgets/controls",
            "_model_module_version": "1.5.0",
            "_model_name": "HTMLModel",
            "_view_count": null,
            "_view_module": "@jupyter-widgets/controls",
            "_view_module_version": "1.5.0",
            "_view_name": "HTMLView",
            "description": "",
            "description_tooltip": null,
            "layout": "IPY_MODEL_9cf88b9fae174b1eb36df20e92c2f317",
            "placeholder": "​",
            "style": "IPY_MODEL_46b5199f500f4fe8af6019aefe12af2e",
            "value": " 9.09M/9.09M [00:00&lt;00:00, 18.7MB/s]"
          }
        },
        "5c5237d026df4670b9e310904210b796": {
          "model_module": "@jupyter-widgets/base",
          "model_name": "LayoutModel",
          "model_module_version": "1.2.0",
          "state": {
            "_model_module": "@jupyter-widgets/base",
            "_model_module_version": "1.2.0",
            "_model_name": "LayoutModel",
            "_view_count": null,
            "_view_module": "@jupyter-widgets/base",
            "_view_module_version": "1.2.0",
            "_view_name": "LayoutView",
            "align_content": null,
            "align_items": null,
            "align_self": null,
            "border": null,
            "bottom": null,
            "display": null,
            "flex": null,
            "flex_flow": null,
            "grid_area": null,
            "grid_auto_columns": null,
            "grid_auto_flow": null,
            "grid_auto_rows": null,
            "grid_column": null,
            "grid_gap": null,
            "grid_row": null,
            "grid_template_areas": null,
            "grid_template_columns": null,
            "grid_template_rows": null,
            "height": null,
            "justify_content": null,
            "justify_items": null,
            "left": null,
            "margin": null,
            "max_height": null,
            "max_width": null,
            "min_height": null,
            "min_width": null,
            "object_fit": null,
            "object_position": null,
            "order": null,
            "overflow": null,
            "overflow_x": null,
            "overflow_y": null,
            "padding": null,
            "right": null,
            "top": null,
            "visibility": null,
            "width": null
          }
        },
        "f40d4239e14f4025adb7c64a5fb640b4": {
          "model_module": "@jupyter-widgets/base",
          "model_name": "LayoutModel",
          "model_module_version": "1.2.0",
          "state": {
            "_model_module": "@jupyter-widgets/base",
            "_model_module_version": "1.2.0",
            "_model_name": "LayoutModel",
            "_view_count": null,
            "_view_module": "@jupyter-widgets/base",
            "_view_module_version": "1.2.0",
            "_view_name": "LayoutView",
            "align_content": null,
            "align_items": null,
            "align_self": null,
            "border": null,
            "bottom": null,
            "display": null,
            "flex": null,
            "flex_flow": null,
            "grid_area": null,
            "grid_auto_columns": null,
            "grid_auto_flow": null,
            "grid_auto_rows": null,
            "grid_column": null,
            "grid_gap": null,
            "grid_row": null,
            "grid_template_areas": null,
            "grid_template_columns": null,
            "grid_template_rows": null,
            "height": null,
            "justify_content": null,
            "justify_items": null,
            "left": null,
            "margin": null,
            "max_height": null,
            "max_width": null,
            "min_height": null,
            "min_width": null,
            "object_fit": null,
            "object_position": null,
            "order": null,
            "overflow": null,
            "overflow_x": null,
            "overflow_y": null,
            "padding": null,
            "right": null,
            "top": null,
            "visibility": null,
            "width": null
          }
        },
        "e544759e63ce4bb0ac286724b3975d97": {
          "model_module": "@jupyter-widgets/controls",
          "model_name": "DescriptionStyleModel",
          "model_module_version": "1.5.0",
          "state": {
            "_model_module": "@jupyter-widgets/controls",
            "_model_module_version": "1.5.0",
            "_model_name": "DescriptionStyleModel",
            "_view_count": null,
            "_view_module": "@jupyter-widgets/base",
            "_view_module_version": "1.2.0",
            "_view_name": "StyleView",
            "description_width": ""
          }
        },
        "fe795e8313d54a4ca5f76f0374d09c8d": {
          "model_module": "@jupyter-widgets/base",
          "model_name": "LayoutModel",
          "model_module_version": "1.2.0",
          "state": {
            "_model_module": "@jupyter-widgets/base",
            "_model_module_version": "1.2.0",
            "_model_name": "LayoutModel",
            "_view_count": null,
            "_view_module": "@jupyter-widgets/base",
            "_view_module_version": "1.2.0",
            "_view_name": "LayoutView",
            "align_content": null,
            "align_items": null,
            "align_self": null,
            "border": null,
            "bottom": null,
            "display": null,
            "flex": null,
            "flex_flow": null,
            "grid_area": null,
            "grid_auto_columns": null,
            "grid_auto_flow": null,
            "grid_auto_rows": null,
            "grid_column": null,
            "grid_gap": null,
            "grid_row": null,
            "grid_template_areas": null,
            "grid_template_columns": null,
            "grid_template_rows": null,
            "height": null,
            "justify_content": null,
            "justify_items": null,
            "left": null,
            "margin": null,
            "max_height": null,
            "max_width": null,
            "min_height": null,
            "min_width": null,
            "object_fit": null,
            "object_position": null,
            "order": null,
            "overflow": null,
            "overflow_x": null,
            "overflow_y": null,
            "padding": null,
            "right": null,
            "top": null,
            "visibility": null,
            "width": null
          }
        },
        "969c5b1d874445b3a8f14df1e96074f7": {
          "model_module": "@jupyter-widgets/controls",
          "model_name": "ProgressStyleModel",
          "model_module_version": "1.5.0",
          "state": {
            "_model_module": "@jupyter-widgets/controls",
            "_model_module_version": "1.5.0",
            "_model_name": "ProgressStyleModel",
            "_view_count": null,
            "_view_module": "@jupyter-widgets/base",
            "_view_module_version": "1.2.0",
            "_view_name": "StyleView",
            "bar_color": null,
            "description_width": ""
          }
        },
        "9cf88b9fae174b1eb36df20e92c2f317": {
          "model_module": "@jupyter-widgets/base",
          "model_name": "LayoutModel",
          "model_module_version": "1.2.0",
          "state": {
            "_model_module": "@jupyter-widgets/base",
            "_model_module_version": "1.2.0",
            "_model_name": "LayoutModel",
            "_view_count": null,
            "_view_module": "@jupyter-widgets/base",
            "_view_module_version": "1.2.0",
            "_view_name": "LayoutView",
            "align_content": null,
            "align_items": null,
            "align_self": null,
            "border": null,
            "bottom": null,
            "display": null,
            "flex": null,
            "flex_flow": null,
            "grid_area": null,
            "grid_auto_columns": null,
            "grid_auto_flow": null,
            "grid_auto_rows": null,
            "grid_column": null,
            "grid_gap": null,
            "grid_row": null,
            "grid_template_areas": null,
            "grid_template_columns": null,
            "grid_template_rows": null,
            "height": null,
            "justify_content": null,
            "justify_items": null,
            "left": null,
            "margin": null,
            "max_height": null,
            "max_width": null,
            "min_height": null,
            "min_width": null,
            "object_fit": null,
            "object_position": null,
            "order": null,
            "overflow": null,
            "overflow_x": null,
            "overflow_y": null,
            "padding": null,
            "right": null,
            "top": null,
            "visibility": null,
            "width": null
          }
        },
        "46b5199f500f4fe8af6019aefe12af2e": {
          "model_module": "@jupyter-widgets/controls",
          "model_name": "DescriptionStyleModel",
          "model_module_version": "1.5.0",
          "state": {
            "_model_module": "@jupyter-widgets/controls",
            "_model_module_version": "1.5.0",
            "_model_name": "DescriptionStyleModel",
            "_view_count": null,
            "_view_module": "@jupyter-widgets/base",
            "_view_module_version": "1.2.0",
            "_view_name": "StyleView",
            "description_width": ""
          }
        },
        "080210464dde4c1bb048648bf9735bcf": {
          "model_module": "@jupyter-widgets/controls",
          "model_name": "HBoxModel",
          "model_module_version": "1.5.0",
          "state": {
            "_dom_classes": [],
            "_model_module": "@jupyter-widgets/controls",
            "_model_module_version": "1.5.0",
            "_model_name": "HBoxModel",
            "_view_count": null,
            "_view_module": "@jupyter-widgets/controls",
            "_view_module_version": "1.5.0",
            "_view_name": "HBoxView",
            "box_style": "",
            "children": [
              "IPY_MODEL_f4b2c95c6ed94568bebab9be9bb00d4e",
              "IPY_MODEL_980b554633f44b71aa572a7dfb65f8b4",
              "IPY_MODEL_cd31d14ad7664878ab601020650d9d46"
            ],
            "layout": "IPY_MODEL_437ef43353dd46a1a6fb372ca4833bc8"
          }
        },
        "f4b2c95c6ed94568bebab9be9bb00d4e": {
          "model_module": "@jupyter-widgets/controls",
          "model_name": "HTMLModel",
          "model_module_version": "1.5.0",
          "state": {
            "_dom_classes": [],
            "_model_module": "@jupyter-widgets/controls",
            "_model_module_version": "1.5.0",
            "_model_name": "HTMLModel",
            "_view_count": null,
            "_view_module": "@jupyter-widgets/controls",
            "_view_module_version": "1.5.0",
            "_view_name": "HTMLView",
            "description": "",
            "description_tooltip": null,
            "layout": "IPY_MODEL_024d220015b049a2be17c35e12f0695a",
            "placeholder": "​",
            "style": "IPY_MODEL_9dff94dd288f4021b7aeabd34680f673",
            "value": "special_tokens_map.json: 100%"
          }
        },
        "980b554633f44b71aa572a7dfb65f8b4": {
          "model_module": "@jupyter-widgets/controls",
          "model_name": "FloatProgressModel",
          "model_module_version": "1.5.0",
          "state": {
            "_dom_classes": [],
            "_model_module": "@jupyter-widgets/controls",
            "_model_module_version": "1.5.0",
            "_model_name": "FloatProgressModel",
            "_view_count": null,
            "_view_module": "@jupyter-widgets/controls",
            "_view_module_version": "1.5.0",
            "_view_name": "ProgressView",
            "bar_style": "success",
            "description": "",
            "description_tooltip": null,
            "layout": "IPY_MODEL_7d2ab717367e448784a968938bb1dca7",
            "max": 296,
            "min": 0,
            "orientation": "horizontal",
            "style": "IPY_MODEL_73e936b4aa1841be97d430fbb49fb1e0",
            "value": 296
          }
        },
        "cd31d14ad7664878ab601020650d9d46": {
          "model_module": "@jupyter-widgets/controls",
          "model_name": "HTMLModel",
          "model_module_version": "1.5.0",
          "state": {
            "_dom_classes": [],
            "_model_module": "@jupyter-widgets/controls",
            "_model_module_version": "1.5.0",
            "_model_name": "HTMLModel",
            "_view_count": null,
            "_view_module": "@jupyter-widgets/controls",
            "_view_module_version": "1.5.0",
            "_view_name": "HTMLView",
            "description": "",
            "description_tooltip": null,
            "layout": "IPY_MODEL_5c7cbef229b54776b5da240666556161",
            "placeholder": "​",
            "style": "IPY_MODEL_5c2f67f5701f4430aa0811ea5259704d",
            "value": " 296/296 [00:00&lt;00:00, 18.4kB/s]"
          }
        },
        "437ef43353dd46a1a6fb372ca4833bc8": {
          "model_module": "@jupyter-widgets/base",
          "model_name": "LayoutModel",
          "model_module_version": "1.2.0",
          "state": {
            "_model_module": "@jupyter-widgets/base",
            "_model_module_version": "1.2.0",
            "_model_name": "LayoutModel",
            "_view_count": null,
            "_view_module": "@jupyter-widgets/base",
            "_view_module_version": "1.2.0",
            "_view_name": "LayoutView",
            "align_content": null,
            "align_items": null,
            "align_self": null,
            "border": null,
            "bottom": null,
            "display": null,
            "flex": null,
            "flex_flow": null,
            "grid_area": null,
            "grid_auto_columns": null,
            "grid_auto_flow": null,
            "grid_auto_rows": null,
            "grid_column": null,
            "grid_gap": null,
            "grid_row": null,
            "grid_template_areas": null,
            "grid_template_columns": null,
            "grid_template_rows": null,
            "height": null,
            "justify_content": null,
            "justify_items": null,
            "left": null,
            "margin": null,
            "max_height": null,
            "max_width": null,
            "min_height": null,
            "min_width": null,
            "object_fit": null,
            "object_position": null,
            "order": null,
            "overflow": null,
            "overflow_x": null,
            "overflow_y": null,
            "padding": null,
            "right": null,
            "top": null,
            "visibility": null,
            "width": null
          }
        },
        "024d220015b049a2be17c35e12f0695a": {
          "model_module": "@jupyter-widgets/base",
          "model_name": "LayoutModel",
          "model_module_version": "1.2.0",
          "state": {
            "_model_module": "@jupyter-widgets/base",
            "_model_module_version": "1.2.0",
            "_model_name": "LayoutModel",
            "_view_count": null,
            "_view_module": "@jupyter-widgets/base",
            "_view_module_version": "1.2.0",
            "_view_name": "LayoutView",
            "align_content": null,
            "align_items": null,
            "align_self": null,
            "border": null,
            "bottom": null,
            "display": null,
            "flex": null,
            "flex_flow": null,
            "grid_area": null,
            "grid_auto_columns": null,
            "grid_auto_flow": null,
            "grid_auto_rows": null,
            "grid_column": null,
            "grid_gap": null,
            "grid_row": null,
            "grid_template_areas": null,
            "grid_template_columns": null,
            "grid_template_rows": null,
            "height": null,
            "justify_content": null,
            "justify_items": null,
            "left": null,
            "margin": null,
            "max_height": null,
            "max_width": null,
            "min_height": null,
            "min_width": null,
            "object_fit": null,
            "object_position": null,
            "order": null,
            "overflow": null,
            "overflow_x": null,
            "overflow_y": null,
            "padding": null,
            "right": null,
            "top": null,
            "visibility": null,
            "width": null
          }
        },
        "9dff94dd288f4021b7aeabd34680f673": {
          "model_module": "@jupyter-widgets/controls",
          "model_name": "DescriptionStyleModel",
          "model_module_version": "1.5.0",
          "state": {
            "_model_module": "@jupyter-widgets/controls",
            "_model_module_version": "1.5.0",
            "_model_name": "DescriptionStyleModel",
            "_view_count": null,
            "_view_module": "@jupyter-widgets/base",
            "_view_module_version": "1.2.0",
            "_view_name": "StyleView",
            "description_width": ""
          }
        },
        "7d2ab717367e448784a968938bb1dca7": {
          "model_module": "@jupyter-widgets/base",
          "model_name": "LayoutModel",
          "model_module_version": "1.2.0",
          "state": {
            "_model_module": "@jupyter-widgets/base",
            "_model_module_version": "1.2.0",
            "_model_name": "LayoutModel",
            "_view_count": null,
            "_view_module": "@jupyter-widgets/base",
            "_view_module_version": "1.2.0",
            "_view_name": "LayoutView",
            "align_content": null,
            "align_items": null,
            "align_self": null,
            "border": null,
            "bottom": null,
            "display": null,
            "flex": null,
            "flex_flow": null,
            "grid_area": null,
            "grid_auto_columns": null,
            "grid_auto_flow": null,
            "grid_auto_rows": null,
            "grid_column": null,
            "grid_gap": null,
            "grid_row": null,
            "grid_template_areas": null,
            "grid_template_columns": null,
            "grid_template_rows": null,
            "height": null,
            "justify_content": null,
            "justify_items": null,
            "left": null,
            "margin": null,
            "max_height": null,
            "max_width": null,
            "min_height": null,
            "min_width": null,
            "object_fit": null,
            "object_position": null,
            "order": null,
            "overflow": null,
            "overflow_x": null,
            "overflow_y": null,
            "padding": null,
            "right": null,
            "top": null,
            "visibility": null,
            "width": null
          }
        },
        "73e936b4aa1841be97d430fbb49fb1e0": {
          "model_module": "@jupyter-widgets/controls",
          "model_name": "ProgressStyleModel",
          "model_module_version": "1.5.0",
          "state": {
            "_model_module": "@jupyter-widgets/controls",
            "_model_module_version": "1.5.0",
            "_model_name": "ProgressStyleModel",
            "_view_count": null,
            "_view_module": "@jupyter-widgets/base",
            "_view_module_version": "1.2.0",
            "_view_name": "StyleView",
            "bar_color": null,
            "description_width": ""
          }
        },
        "5c7cbef229b54776b5da240666556161": {
          "model_module": "@jupyter-widgets/base",
          "model_name": "LayoutModel",
          "model_module_version": "1.2.0",
          "state": {
            "_model_module": "@jupyter-widgets/base",
            "_model_module_version": "1.2.0",
            "_model_name": "LayoutModel",
            "_view_count": null,
            "_view_module": "@jupyter-widgets/base",
            "_view_module_version": "1.2.0",
            "_view_name": "LayoutView",
            "align_content": null,
            "align_items": null,
            "align_self": null,
            "border": null,
            "bottom": null,
            "display": null,
            "flex": null,
            "flex_flow": null,
            "grid_area": null,
            "grid_auto_columns": null,
            "grid_auto_flow": null,
            "grid_auto_rows": null,
            "grid_column": null,
            "grid_gap": null,
            "grid_row": null,
            "grid_template_areas": null,
            "grid_template_columns": null,
            "grid_template_rows": null,
            "height": null,
            "justify_content": null,
            "justify_items": null,
            "left": null,
            "margin": null,
            "max_height": null,
            "max_width": null,
            "min_height": null,
            "min_width": null,
            "object_fit": null,
            "object_position": null,
            "order": null,
            "overflow": null,
            "overflow_x": null,
            "overflow_y": null,
            "padding": null,
            "right": null,
            "top": null,
            "visibility": null,
            "width": null
          }
        },
        "5c2f67f5701f4430aa0811ea5259704d": {
          "model_module": "@jupyter-widgets/controls",
          "model_name": "DescriptionStyleModel",
          "model_module_version": "1.5.0",
          "state": {
            "_model_module": "@jupyter-widgets/controls",
            "_model_module_version": "1.5.0",
            "_model_name": "DescriptionStyleModel",
            "_view_count": null,
            "_view_module": "@jupyter-widgets/base",
            "_view_module_version": "1.2.0",
            "_view_name": "StyleView",
            "description_width": ""
          }
        },
        "0fff54de862a489b832ba32d4a67ca1b": {
          "model_module": "@jupyter-widgets/controls",
          "model_name": "HBoxModel",
          "model_module_version": "1.5.0",
          "state": {
            "_dom_classes": [],
            "_model_module": "@jupyter-widgets/controls",
            "_model_module_version": "1.5.0",
            "_model_name": "HBoxModel",
            "_view_count": null,
            "_view_module": "@jupyter-widgets/controls",
            "_view_module_version": "1.5.0",
            "_view_name": "HBoxView",
            "box_style": "",
            "children": [
              "IPY_MODEL_588bb1faed7447b39f1a1f016bc2367d",
              "IPY_MODEL_6ab2cbdefa67492f9dc3437397819c00",
              "IPY_MODEL_7cc8783fea17412fb03ed5b6e16db50b"
            ],
            "layout": "IPY_MODEL_ced9dbd1286b40c79e3ea68b4d4b2945"
          }
        },
        "588bb1faed7447b39f1a1f016bc2367d": {
          "model_module": "@jupyter-widgets/controls",
          "model_name": "HTMLModel",
          "model_module_version": "1.5.0",
          "state": {
            "_dom_classes": [],
            "_model_module": "@jupyter-widgets/controls",
            "_model_module_version": "1.5.0",
            "_model_name": "HTMLModel",
            "_view_count": null,
            "_view_module": "@jupyter-widgets/controls",
            "_view_module_version": "1.5.0",
            "_view_name": "HTMLView",
            "description": "",
            "description_tooltip": null,
            "layout": "IPY_MODEL_5ea3d5b19f5d40cd828315565030a29d",
            "placeholder": "​",
            "style": "IPY_MODEL_d427da142ecc400eb8daede36198bc6f",
            "value": "config.json: 100%"
          }
        },
        "6ab2cbdefa67492f9dc3437397819c00": {
          "model_module": "@jupyter-widgets/controls",
          "model_name": "FloatProgressModel",
          "model_module_version": "1.5.0",
          "state": {
            "_dom_classes": [],
            "_model_module": "@jupyter-widgets/controls",
            "_model_module_version": "1.5.0",
            "_model_name": "FloatProgressModel",
            "_view_count": null,
            "_view_module": "@jupyter-widgets/controls",
            "_view_module_version": "1.5.0",
            "_view_name": "ProgressView",
            "bar_style": "success",
            "description": "",
            "description_tooltip": null,
            "layout": "IPY_MODEL_bdc294f911bb45d6959e5cea817214af",
            "max": 877,
            "min": 0,
            "orientation": "horizontal",
            "style": "IPY_MODEL_176428b0f09747e6b5a5799f1d7a6be3",
            "value": 877
          }
        },
        "7cc8783fea17412fb03ed5b6e16db50b": {
          "model_module": "@jupyter-widgets/controls",
          "model_name": "HTMLModel",
          "model_module_version": "1.5.0",
          "state": {
            "_dom_classes": [],
            "_model_module": "@jupyter-widgets/controls",
            "_model_module_version": "1.5.0",
            "_model_name": "HTMLModel",
            "_view_count": null,
            "_view_module": "@jupyter-widgets/controls",
            "_view_module_version": "1.5.0",
            "_view_name": "HTMLView",
            "description": "",
            "description_tooltip": null,
            "layout": "IPY_MODEL_6b0eebe5ce704c2b9594753c83aac486",
            "placeholder": "​",
            "style": "IPY_MODEL_0d78f6411ddf43e6acf126934f481748",
            "value": " 877/877 [00:00&lt;00:00, 67.5kB/s]"
          }
        },
        "ced9dbd1286b40c79e3ea68b4d4b2945": {
          "model_module": "@jupyter-widgets/base",
          "model_name": "LayoutModel",
          "model_module_version": "1.2.0",
          "state": {
            "_model_module": "@jupyter-widgets/base",
            "_model_module_version": "1.2.0",
            "_model_name": "LayoutModel",
            "_view_count": null,
            "_view_module": "@jupyter-widgets/base",
            "_view_module_version": "1.2.0",
            "_view_name": "LayoutView",
            "align_content": null,
            "align_items": null,
            "align_self": null,
            "border": null,
            "bottom": null,
            "display": null,
            "flex": null,
            "flex_flow": null,
            "grid_area": null,
            "grid_auto_columns": null,
            "grid_auto_flow": null,
            "grid_auto_rows": null,
            "grid_column": null,
            "grid_gap": null,
            "grid_row": null,
            "grid_template_areas": null,
            "grid_template_columns": null,
            "grid_template_rows": null,
            "height": null,
            "justify_content": null,
            "justify_items": null,
            "left": null,
            "margin": null,
            "max_height": null,
            "max_width": null,
            "min_height": null,
            "min_width": null,
            "object_fit": null,
            "object_position": null,
            "order": null,
            "overflow": null,
            "overflow_x": null,
            "overflow_y": null,
            "padding": null,
            "right": null,
            "top": null,
            "visibility": null,
            "width": null
          }
        },
        "5ea3d5b19f5d40cd828315565030a29d": {
          "model_module": "@jupyter-widgets/base",
          "model_name": "LayoutModel",
          "model_module_version": "1.2.0",
          "state": {
            "_model_module": "@jupyter-widgets/base",
            "_model_module_version": "1.2.0",
            "_model_name": "LayoutModel",
            "_view_count": null,
            "_view_module": "@jupyter-widgets/base",
            "_view_module_version": "1.2.0",
            "_view_name": "LayoutView",
            "align_content": null,
            "align_items": null,
            "align_self": null,
            "border": null,
            "bottom": null,
            "display": null,
            "flex": null,
            "flex_flow": null,
            "grid_area": null,
            "grid_auto_columns": null,
            "grid_auto_flow": null,
            "grid_auto_rows": null,
            "grid_column": null,
            "grid_gap": null,
            "grid_row": null,
            "grid_template_areas": null,
            "grid_template_columns": null,
            "grid_template_rows": null,
            "height": null,
            "justify_content": null,
            "justify_items": null,
            "left": null,
            "margin": null,
            "max_height": null,
            "max_width": null,
            "min_height": null,
            "min_width": null,
            "object_fit": null,
            "object_position": null,
            "order": null,
            "overflow": null,
            "overflow_x": null,
            "overflow_y": null,
            "padding": null,
            "right": null,
            "top": null,
            "visibility": null,
            "width": null
          }
        },
        "d427da142ecc400eb8daede36198bc6f": {
          "model_module": "@jupyter-widgets/controls",
          "model_name": "DescriptionStyleModel",
          "model_module_version": "1.5.0",
          "state": {
            "_model_module": "@jupyter-widgets/controls",
            "_model_module_version": "1.5.0",
            "_model_name": "DescriptionStyleModel",
            "_view_count": null,
            "_view_module": "@jupyter-widgets/base",
            "_view_module_version": "1.2.0",
            "_view_name": "StyleView",
            "description_width": ""
          }
        },
        "bdc294f911bb45d6959e5cea817214af": {
          "model_module": "@jupyter-widgets/base",
          "model_name": "LayoutModel",
          "model_module_version": "1.2.0",
          "state": {
            "_model_module": "@jupyter-widgets/base",
            "_model_module_version": "1.2.0",
            "_model_name": "LayoutModel",
            "_view_count": null,
            "_view_module": "@jupyter-widgets/base",
            "_view_module_version": "1.2.0",
            "_view_name": "LayoutView",
            "align_content": null,
            "align_items": null,
            "align_self": null,
            "border": null,
            "bottom": null,
            "display": null,
            "flex": null,
            "flex_flow": null,
            "grid_area": null,
            "grid_auto_columns": null,
            "grid_auto_flow": null,
            "grid_auto_rows": null,
            "grid_column": null,
            "grid_gap": null,
            "grid_row": null,
            "grid_template_areas": null,
            "grid_template_columns": null,
            "grid_template_rows": null,
            "height": null,
            "justify_content": null,
            "justify_items": null,
            "left": null,
            "margin": null,
            "max_height": null,
            "max_width": null,
            "min_height": null,
            "min_width": null,
            "object_fit": null,
            "object_position": null,
            "order": null,
            "overflow": null,
            "overflow_x": null,
            "overflow_y": null,
            "padding": null,
            "right": null,
            "top": null,
            "visibility": null,
            "width": null
          }
        },
        "176428b0f09747e6b5a5799f1d7a6be3": {
          "model_module": "@jupyter-widgets/controls",
          "model_name": "ProgressStyleModel",
          "model_module_version": "1.5.0",
          "state": {
            "_model_module": "@jupyter-widgets/controls",
            "_model_module_version": "1.5.0",
            "_model_name": "ProgressStyleModel",
            "_view_count": null,
            "_view_module": "@jupyter-widgets/base",
            "_view_module_version": "1.2.0",
            "_view_name": "StyleView",
            "bar_color": null,
            "description_width": ""
          }
        },
        "6b0eebe5ce704c2b9594753c83aac486": {
          "model_module": "@jupyter-widgets/base",
          "model_name": "LayoutModel",
          "model_module_version": "1.2.0",
          "state": {
            "_model_module": "@jupyter-widgets/base",
            "_model_module_version": "1.2.0",
            "_model_name": "LayoutModel",
            "_view_count": null,
            "_view_module": "@jupyter-widgets/base",
            "_view_module_version": "1.2.0",
            "_view_name": "LayoutView",
            "align_content": null,
            "align_items": null,
            "align_self": null,
            "border": null,
            "bottom": null,
            "display": null,
            "flex": null,
            "flex_flow": null,
            "grid_area": null,
            "grid_auto_columns": null,
            "grid_auto_flow": null,
            "grid_auto_rows": null,
            "grid_column": null,
            "grid_gap": null,
            "grid_row": null,
            "grid_template_areas": null,
            "grid_template_columns": null,
            "grid_template_rows": null,
            "height": null,
            "justify_content": null,
            "justify_items": null,
            "left": null,
            "margin": null,
            "max_height": null,
            "max_width": null,
            "min_height": null,
            "min_width": null,
            "object_fit": null,
            "object_position": null,
            "order": null,
            "overflow": null,
            "overflow_x": null,
            "overflow_y": null,
            "padding": null,
            "right": null,
            "top": null,
            "visibility": null,
            "width": null
          }
        },
        "0d78f6411ddf43e6acf126934f481748": {
          "model_module": "@jupyter-widgets/controls",
          "model_name": "DescriptionStyleModel",
          "model_module_version": "1.5.0",
          "state": {
            "_model_module": "@jupyter-widgets/controls",
            "_model_module_version": "1.5.0",
            "_model_name": "DescriptionStyleModel",
            "_view_count": null,
            "_view_module": "@jupyter-widgets/base",
            "_view_module_version": "1.2.0",
            "_view_name": "StyleView",
            "description_width": ""
          }
        },
        "c4ed18ae77e644f889696f9f560b740f": {
          "model_module": "@jupyter-widgets/controls",
          "model_name": "HBoxModel",
          "model_module_version": "1.5.0",
          "state": {
            "_dom_classes": [],
            "_model_module": "@jupyter-widgets/controls",
            "_model_module_version": "1.5.0",
            "_model_name": "HBoxModel",
            "_view_count": null,
            "_view_module": "@jupyter-widgets/controls",
            "_view_module_version": "1.5.0",
            "_view_name": "HBoxView",
            "box_style": "",
            "children": [
              "IPY_MODEL_9abe3a7812ce4a38a8223f4be6c83807",
              "IPY_MODEL_876afbddf93840809d05f49b11b3fa99",
              "IPY_MODEL_12b0d7111249437ca3934c309aa5a496"
            ],
            "layout": "IPY_MODEL_362f56cba1114812a14a4e5b6c41789f"
          }
        },
        "9abe3a7812ce4a38a8223f4be6c83807": {
          "model_module": "@jupyter-widgets/controls",
          "model_name": "HTMLModel",
          "model_module_version": "1.5.0",
          "state": {
            "_dom_classes": [],
            "_model_module": "@jupyter-widgets/controls",
            "_model_module_version": "1.5.0",
            "_model_name": "HTMLModel",
            "_view_count": null,
            "_view_module": "@jupyter-widgets/controls",
            "_view_module_version": "1.5.0",
            "_view_name": "HTMLView",
            "description": "",
            "description_tooltip": null,
            "layout": "IPY_MODEL_6a72d35dd0b74642afdf03e7c743185f",
            "placeholder": "​",
            "style": "IPY_MODEL_cc8efd0c0d6a46f49b2e7759a2e22072",
            "value": "model.safetensors: 100%"
          }
        },
        "876afbddf93840809d05f49b11b3fa99": {
          "model_module": "@jupyter-widgets/controls",
          "model_name": "FloatProgressModel",
          "model_module_version": "1.5.0",
          "state": {
            "_dom_classes": [],
            "_model_module": "@jupyter-widgets/controls",
            "_model_module_version": "1.5.0",
            "_model_name": "FloatProgressModel",
            "_view_count": null,
            "_view_module": "@jupyter-widgets/controls",
            "_view_module_version": "1.5.0",
            "_view_name": "ProgressView",
            "bar_style": "success",
            "description": "",
            "description_tooltip": null,
            "layout": "IPY_MODEL_a27c8d9c082041b2a14c88a66b17f900",
            "max": 2471645608,
            "min": 0,
            "orientation": "horizontal",
            "style": "IPY_MODEL_8e9982029aeb4724865ca09f9032febe",
            "value": 2471645608
          }
        },
        "12b0d7111249437ca3934c309aa5a496": {
          "model_module": "@jupyter-widgets/controls",
          "model_name": "HTMLModel",
          "model_module_version": "1.5.0",
          "state": {
            "_dom_classes": [],
            "_model_module": "@jupyter-widgets/controls",
            "_model_module_version": "1.5.0",
            "_model_name": "HTMLModel",
            "_view_count": null,
            "_view_module": "@jupyter-widgets/controls",
            "_view_module_version": "1.5.0",
            "_view_name": "HTMLView",
            "description": "",
            "description_tooltip": null,
            "layout": "IPY_MODEL_169728b748c04f3aac4958a3af240d23",
            "placeholder": "​",
            "style": "IPY_MODEL_96175502e30c41f991329d4cb1fbe3e2",
            "value": " 2.47G/2.47G [00:26&lt;00:00, 129MB/s]"
          }
        },
        "362f56cba1114812a14a4e5b6c41789f": {
          "model_module": "@jupyter-widgets/base",
          "model_name": "LayoutModel",
          "model_module_version": "1.2.0",
          "state": {
            "_model_module": "@jupyter-widgets/base",
            "_model_module_version": "1.2.0",
            "_model_name": "LayoutModel",
            "_view_count": null,
            "_view_module": "@jupyter-widgets/base",
            "_view_module_version": "1.2.0",
            "_view_name": "LayoutView",
            "align_content": null,
            "align_items": null,
            "align_self": null,
            "border": null,
            "bottom": null,
            "display": null,
            "flex": null,
            "flex_flow": null,
            "grid_area": null,
            "grid_auto_columns": null,
            "grid_auto_flow": null,
            "grid_auto_rows": null,
            "grid_column": null,
            "grid_gap": null,
            "grid_row": null,
            "grid_template_areas": null,
            "grid_template_columns": null,
            "grid_template_rows": null,
            "height": null,
            "justify_content": null,
            "justify_items": null,
            "left": null,
            "margin": null,
            "max_height": null,
            "max_width": null,
            "min_height": null,
            "min_width": null,
            "object_fit": null,
            "object_position": null,
            "order": null,
            "overflow": null,
            "overflow_x": null,
            "overflow_y": null,
            "padding": null,
            "right": null,
            "top": null,
            "visibility": null,
            "width": null
          }
        },
        "6a72d35dd0b74642afdf03e7c743185f": {
          "model_module": "@jupyter-widgets/base",
          "model_name": "LayoutModel",
          "model_module_version": "1.2.0",
          "state": {
            "_model_module": "@jupyter-widgets/base",
            "_model_module_version": "1.2.0",
            "_model_name": "LayoutModel",
            "_view_count": null,
            "_view_module": "@jupyter-widgets/base",
            "_view_module_version": "1.2.0",
            "_view_name": "LayoutView",
            "align_content": null,
            "align_items": null,
            "align_self": null,
            "border": null,
            "bottom": null,
            "display": null,
            "flex": null,
            "flex_flow": null,
            "grid_area": null,
            "grid_auto_columns": null,
            "grid_auto_flow": null,
            "grid_auto_rows": null,
            "grid_column": null,
            "grid_gap": null,
            "grid_row": null,
            "grid_template_areas": null,
            "grid_template_columns": null,
            "grid_template_rows": null,
            "height": null,
            "justify_content": null,
            "justify_items": null,
            "left": null,
            "margin": null,
            "max_height": null,
            "max_width": null,
            "min_height": null,
            "min_width": null,
            "object_fit": null,
            "object_position": null,
            "order": null,
            "overflow": null,
            "overflow_x": null,
            "overflow_y": null,
            "padding": null,
            "right": null,
            "top": null,
            "visibility": null,
            "width": null
          }
        },
        "cc8efd0c0d6a46f49b2e7759a2e22072": {
          "model_module": "@jupyter-widgets/controls",
          "model_name": "DescriptionStyleModel",
          "model_module_version": "1.5.0",
          "state": {
            "_model_module": "@jupyter-widgets/controls",
            "_model_module_version": "1.5.0",
            "_model_name": "DescriptionStyleModel",
            "_view_count": null,
            "_view_module": "@jupyter-widgets/base",
            "_view_module_version": "1.2.0",
            "_view_name": "StyleView",
            "description_width": ""
          }
        },
        "a27c8d9c082041b2a14c88a66b17f900": {
          "model_module": "@jupyter-widgets/base",
          "model_name": "LayoutModel",
          "model_module_version": "1.2.0",
          "state": {
            "_model_module": "@jupyter-widgets/base",
            "_model_module_version": "1.2.0",
            "_model_name": "LayoutModel",
            "_view_count": null,
            "_view_module": "@jupyter-widgets/base",
            "_view_module_version": "1.2.0",
            "_view_name": "LayoutView",
            "align_content": null,
            "align_items": null,
            "align_self": null,
            "border": null,
            "bottom": null,
            "display": null,
            "flex": null,
            "flex_flow": null,
            "grid_area": null,
            "grid_auto_columns": null,
            "grid_auto_flow": null,
            "grid_auto_rows": null,
            "grid_column": null,
            "grid_gap": null,
            "grid_row": null,
            "grid_template_areas": null,
            "grid_template_columns": null,
            "grid_template_rows": null,
            "height": null,
            "justify_content": null,
            "justify_items": null,
            "left": null,
            "margin": null,
            "max_height": null,
            "max_width": null,
            "min_height": null,
            "min_width": null,
            "object_fit": null,
            "object_position": null,
            "order": null,
            "overflow": null,
            "overflow_x": null,
            "overflow_y": null,
            "padding": null,
            "right": null,
            "top": null,
            "visibility": null,
            "width": null
          }
        },
        "8e9982029aeb4724865ca09f9032febe": {
          "model_module": "@jupyter-widgets/controls",
          "model_name": "ProgressStyleModel",
          "model_module_version": "1.5.0",
          "state": {
            "_model_module": "@jupyter-widgets/controls",
            "_model_module_version": "1.5.0",
            "_model_name": "ProgressStyleModel",
            "_view_count": null,
            "_view_module": "@jupyter-widgets/base",
            "_view_module_version": "1.2.0",
            "_view_name": "StyleView",
            "bar_color": null,
            "description_width": ""
          }
        },
        "169728b748c04f3aac4958a3af240d23": {
          "model_module": "@jupyter-widgets/base",
          "model_name": "LayoutModel",
          "model_module_version": "1.2.0",
          "state": {
            "_model_module": "@jupyter-widgets/base",
            "_model_module_version": "1.2.0",
            "_model_name": "LayoutModel",
            "_view_count": null,
            "_view_module": "@jupyter-widgets/base",
            "_view_module_version": "1.2.0",
            "_view_name": "LayoutView",
            "align_content": null,
            "align_items": null,
            "align_self": null,
            "border": null,
            "bottom": null,
            "display": null,
            "flex": null,
            "flex_flow": null,
            "grid_area": null,
            "grid_auto_columns": null,
            "grid_auto_flow": null,
            "grid_auto_rows": null,
            "grid_column": null,
            "grid_gap": null,
            "grid_row": null,
            "grid_template_areas": null,
            "grid_template_columns": null,
            "grid_template_rows": null,
            "height": null,
            "justify_content": null,
            "justify_items": null,
            "left": null,
            "margin": null,
            "max_height": null,
            "max_width": null,
            "min_height": null,
            "min_width": null,
            "object_fit": null,
            "object_position": null,
            "order": null,
            "overflow": null,
            "overflow_x": null,
            "overflow_y": null,
            "padding": null,
            "right": null,
            "top": null,
            "visibility": null,
            "width": null
          }
        },
        "96175502e30c41f991329d4cb1fbe3e2": {
          "model_module": "@jupyter-widgets/controls",
          "model_name": "DescriptionStyleModel",
          "model_module_version": "1.5.0",
          "state": {
            "_model_module": "@jupyter-widgets/controls",
            "_model_module_version": "1.5.0",
            "_model_name": "DescriptionStyleModel",
            "_view_count": null,
            "_view_module": "@jupyter-widgets/base",
            "_view_module_version": "1.2.0",
            "_view_name": "StyleView",
            "description_width": ""
          }
        },
        "f9eabbe7eb74493ca907a57f4291bfff": {
          "model_module": "@jupyter-widgets/controls",
          "model_name": "HBoxModel",
          "model_module_version": "1.5.0",
          "state": {
            "_dom_classes": [],
            "_model_module": "@jupyter-widgets/controls",
            "_model_module_version": "1.5.0",
            "_model_name": "HBoxModel",
            "_view_count": null,
            "_view_module": "@jupyter-widgets/controls",
            "_view_module_version": "1.5.0",
            "_view_name": "HBoxView",
            "box_style": "",
            "children": [
              "IPY_MODEL_d22690c632ac4a65ad74528496bd18be",
              "IPY_MODEL_67da396eb2bd499381406ac68a7af306",
              "IPY_MODEL_2ea657a5abd2472bad6e15ec9c7bf2d3"
            ],
            "layout": "IPY_MODEL_b7827f7f6e1848c687db20457254b858"
          }
        },
        "d22690c632ac4a65ad74528496bd18be": {
          "model_module": "@jupyter-widgets/controls",
          "model_name": "HTMLModel",
          "model_module_version": "1.5.0",
          "state": {
            "_dom_classes": [],
            "_model_module": "@jupyter-widgets/controls",
            "_model_module_version": "1.5.0",
            "_model_name": "HTMLModel",
            "_view_count": null,
            "_view_module": "@jupyter-widgets/controls",
            "_view_module_version": "1.5.0",
            "_view_name": "HTMLView",
            "description": "",
            "description_tooltip": null,
            "layout": "IPY_MODEL_ceed45e778ba4a5db61a459e1e719a9f",
            "placeholder": "​",
            "style": "IPY_MODEL_49d87d1fc4c844baa3351438f454f1b0",
            "value": "generation_config.json: 100%"
          }
        },
        "67da396eb2bd499381406ac68a7af306": {
          "model_module": "@jupyter-widgets/controls",
          "model_name": "FloatProgressModel",
          "model_module_version": "1.5.0",
          "state": {
            "_dom_classes": [],
            "_model_module": "@jupyter-widgets/controls",
            "_model_module_version": "1.5.0",
            "_model_name": "FloatProgressModel",
            "_view_count": null,
            "_view_module": "@jupyter-widgets/controls",
            "_view_module_version": "1.5.0",
            "_view_name": "ProgressView",
            "bar_style": "success",
            "description": "",
            "description_tooltip": null,
            "layout": "IPY_MODEL_a39ec40036584a378fd3e376da78ede8",
            "max": 189,
            "min": 0,
            "orientation": "horizontal",
            "style": "IPY_MODEL_65a9e32ee36944f89007e70e51f0832e",
            "value": 189
          }
        },
        "2ea657a5abd2472bad6e15ec9c7bf2d3": {
          "model_module": "@jupyter-widgets/controls",
          "model_name": "HTMLModel",
          "model_module_version": "1.5.0",
          "state": {
            "_dom_classes": [],
            "_model_module": "@jupyter-widgets/controls",
            "_model_module_version": "1.5.0",
            "_model_name": "HTMLModel",
            "_view_count": null,
            "_view_module": "@jupyter-widgets/controls",
            "_view_module_version": "1.5.0",
            "_view_name": "HTMLView",
            "description": "",
            "description_tooltip": null,
            "layout": "IPY_MODEL_36cab20b725a4837b9f94129d489c007",
            "placeholder": "​",
            "style": "IPY_MODEL_10d66f6c715740a59b52806a432b0a3f",
            "value": " 189/189 [00:00&lt;00:00, 19.2kB/s]"
          }
        },
        "b7827f7f6e1848c687db20457254b858": {
          "model_module": "@jupyter-widgets/base",
          "model_name": "LayoutModel",
          "model_module_version": "1.2.0",
          "state": {
            "_model_module": "@jupyter-widgets/base",
            "_model_module_version": "1.2.0",
            "_model_name": "LayoutModel",
            "_view_count": null,
            "_view_module": "@jupyter-widgets/base",
            "_view_module_version": "1.2.0",
            "_view_name": "LayoutView",
            "align_content": null,
            "align_items": null,
            "align_self": null,
            "border": null,
            "bottom": null,
            "display": null,
            "flex": null,
            "flex_flow": null,
            "grid_area": null,
            "grid_auto_columns": null,
            "grid_auto_flow": null,
            "grid_auto_rows": null,
            "grid_column": null,
            "grid_gap": null,
            "grid_row": null,
            "grid_template_areas": null,
            "grid_template_columns": null,
            "grid_template_rows": null,
            "height": null,
            "justify_content": null,
            "justify_items": null,
            "left": null,
            "margin": null,
            "max_height": null,
            "max_width": null,
            "min_height": null,
            "min_width": null,
            "object_fit": null,
            "object_position": null,
            "order": null,
            "overflow": null,
            "overflow_x": null,
            "overflow_y": null,
            "padding": null,
            "right": null,
            "top": null,
            "visibility": null,
            "width": null
          }
        },
        "ceed45e778ba4a5db61a459e1e719a9f": {
          "model_module": "@jupyter-widgets/base",
          "model_name": "LayoutModel",
          "model_module_version": "1.2.0",
          "state": {
            "_model_module": "@jupyter-widgets/base",
            "_model_module_version": "1.2.0",
            "_model_name": "LayoutModel",
            "_view_count": null,
            "_view_module": "@jupyter-widgets/base",
            "_view_module_version": "1.2.0",
            "_view_name": "LayoutView",
            "align_content": null,
            "align_items": null,
            "align_self": null,
            "border": null,
            "bottom": null,
            "display": null,
            "flex": null,
            "flex_flow": null,
            "grid_area": null,
            "grid_auto_columns": null,
            "grid_auto_flow": null,
            "grid_auto_rows": null,
            "grid_column": null,
            "grid_gap": null,
            "grid_row": null,
            "grid_template_areas": null,
            "grid_template_columns": null,
            "grid_template_rows": null,
            "height": null,
            "justify_content": null,
            "justify_items": null,
            "left": null,
            "margin": null,
            "max_height": null,
            "max_width": null,
            "min_height": null,
            "min_width": null,
            "object_fit": null,
            "object_position": null,
            "order": null,
            "overflow": null,
            "overflow_x": null,
            "overflow_y": null,
            "padding": null,
            "right": null,
            "top": null,
            "visibility": null,
            "width": null
          }
        },
        "49d87d1fc4c844baa3351438f454f1b0": {
          "model_module": "@jupyter-widgets/controls",
          "model_name": "DescriptionStyleModel",
          "model_module_version": "1.5.0",
          "state": {
            "_model_module": "@jupyter-widgets/controls",
            "_model_module_version": "1.5.0",
            "_model_name": "DescriptionStyleModel",
            "_view_count": null,
            "_view_module": "@jupyter-widgets/base",
            "_view_module_version": "1.2.0",
            "_view_name": "StyleView",
            "description_width": ""
          }
        },
        "a39ec40036584a378fd3e376da78ede8": {
          "model_module": "@jupyter-widgets/base",
          "model_name": "LayoutModel",
          "model_module_version": "1.2.0",
          "state": {
            "_model_module": "@jupyter-widgets/base",
            "_model_module_version": "1.2.0",
            "_model_name": "LayoutModel",
            "_view_count": null,
            "_view_module": "@jupyter-widgets/base",
            "_view_module_version": "1.2.0",
            "_view_name": "LayoutView",
            "align_content": null,
            "align_items": null,
            "align_self": null,
            "border": null,
            "bottom": null,
            "display": null,
            "flex": null,
            "flex_flow": null,
            "grid_area": null,
            "grid_auto_columns": null,
            "grid_auto_flow": null,
            "grid_auto_rows": null,
            "grid_column": null,
            "grid_gap": null,
            "grid_row": null,
            "grid_template_areas": null,
            "grid_template_columns": null,
            "grid_template_rows": null,
            "height": null,
            "justify_content": null,
            "justify_items": null,
            "left": null,
            "margin": null,
            "max_height": null,
            "max_width": null,
            "min_height": null,
            "min_width": null,
            "object_fit": null,
            "object_position": null,
            "order": null,
            "overflow": null,
            "overflow_x": null,
            "overflow_y": null,
            "padding": null,
            "right": null,
            "top": null,
            "visibility": null,
            "width": null
          }
        },
        "65a9e32ee36944f89007e70e51f0832e": {
          "model_module": "@jupyter-widgets/controls",
          "model_name": "ProgressStyleModel",
          "model_module_version": "1.5.0",
          "state": {
            "_model_module": "@jupyter-widgets/controls",
            "_model_module_version": "1.5.0",
            "_model_name": "ProgressStyleModel",
            "_view_count": null,
            "_view_module": "@jupyter-widgets/base",
            "_view_module_version": "1.2.0",
            "_view_name": "StyleView",
            "bar_color": null,
            "description_width": ""
          }
        },
        "36cab20b725a4837b9f94129d489c007": {
          "model_module": "@jupyter-widgets/base",
          "model_name": "LayoutModel",
          "model_module_version": "1.2.0",
          "state": {
            "_model_module": "@jupyter-widgets/base",
            "_model_module_version": "1.2.0",
            "_model_name": "LayoutModel",
            "_view_count": null,
            "_view_module": "@jupyter-widgets/base",
            "_view_module_version": "1.2.0",
            "_view_name": "LayoutView",
            "align_content": null,
            "align_items": null,
            "align_self": null,
            "border": null,
            "bottom": null,
            "display": null,
            "flex": null,
            "flex_flow": null,
            "grid_area": null,
            "grid_auto_columns": null,
            "grid_auto_flow": null,
            "grid_auto_rows": null,
            "grid_column": null,
            "grid_gap": null,
            "grid_row": null,
            "grid_template_areas": null,
            "grid_template_columns": null,
            "grid_template_rows": null,
            "height": null,
            "justify_content": null,
            "justify_items": null,
            "left": null,
            "margin": null,
            "max_height": null,
            "max_width": null,
            "min_height": null,
            "min_width": null,
            "object_fit": null,
            "object_position": null,
            "order": null,
            "overflow": null,
            "overflow_x": null,
            "overflow_y": null,
            "padding": null,
            "right": null,
            "top": null,
            "visibility": null,
            "width": null
          }
        },
        "10d66f6c715740a59b52806a432b0a3f": {
          "model_module": "@jupyter-widgets/controls",
          "model_name": "DescriptionStyleModel",
          "model_module_version": "1.5.0",
          "state": {
            "_model_module": "@jupyter-widgets/controls",
            "_model_module_version": "1.5.0",
            "_model_name": "DescriptionStyleModel",
            "_view_count": null,
            "_view_module": "@jupyter-widgets/base",
            "_view_module_version": "1.2.0",
            "_view_name": "StyleView",
            "description_width": ""
          }
        }
      }
    },
    "accelerator": "GPU"
  },
  "cells": [
    {
      "cell_type": "code",
      "source": [
        "from huggingface_hub import notebook_login\n",
        "notebook_login()"
      ],
      "metadata": {
        "id": "k7pdmZCbJ23m",
        "colab": {
          "base_uri": "https://localhost:8080/",
          "height": 17,
          "referenced_widgets": [
            "78cb2da08a534ab2bce6fdfa536d16f7",
            "d5f32614298f4ca78152b36fe5d222bb",
            "8f7bc1db9bea427a8329bbbdf36eef88",
            "a157b69a415448e997b38c2575523c73",
            "0237bee1a5d4472ea394bab6c816f4cb",
            "6c93cf36d4144760a7b85d951bb8ebb5",
            "b9c796fca3c04e489bfb5333368cf146",
            "9cc32b80745e4179a0e6748e0a56507b",
            "4e40173551394f269611a580d581dcee",
            "f272fbdd69e24de1abe33938c3ae89d4",
            "1c8942151d9c447dad032c75359a5e96",
            "66681b5a5ad341459aa19c23a40e42e5",
            "218ef631ec804e3d8a8721abd516cc3e",
            "095cec2c6a2144909452bffb6b9f0e49",
            "c76be5f3a71c42c692df6aaff88421c4",
            "64f7db94cb3f432688d5936f2bc045d5",
            "f50432536e244ae697174aa79661d47b",
            "ad095a28cac14f2587c654f69e52aee8",
            "e7dc9f82387a4e90a7a330cd7ed6a2d7",
            "ebee267a8e974d598ae4e8be84d56243"
          ]
        },
        "outputId": "d6d3343d-72b4-40aa-f992-bbb1e1b55ccc"
      },
      "execution_count": 1,
      "outputs": [
        {
          "output_type": "display_data",
          "data": {
            "text/plain": [
              "VBox(children=(HTML(value='<center> <img\\nsrc=https://huggingface.co/front/assets/huggingface_logo-noborder.sv…"
            ],
            "application/vnd.jupyter.widget-view+json": {
              "version_major": 2,
              "version_minor": 0,
              "model_id": "78cb2da08a534ab2bce6fdfa536d16f7"
            }
          },
          "metadata": {}
        }
      ]
    },
    {
      "cell_type": "code",
      "execution_count": 2,
      "metadata": {
        "colab": {
          "base_uri": "https://localhost:8080/",
          "height": 721
        },
        "id": "9ULJVTHu6hIo",
        "outputId": "7473055d-0072-4ed7-f863-b9af279ed955"
      },
      "outputs": [
        {
          "output_type": "stream",
          "name": "stderr",
          "text": [
            "/usr/local/lib/python3.11/dist-packages/huggingface_hub/utils/_auth.py:94: UserWarning: \n",
            "The secret `HF_TOKEN` does not exist in your Colab secrets.\n",
            "To authenticate with the Hugging Face Hub, create a token in your settings tab (https://huggingface.co/settings/tokens), set it as secret in your Google Colab and restart your session.\n",
            "You will be able to reuse this secret in all of your notebooks.\n",
            "Please note that authentication is recommended but still optional to access public models or datasets.\n",
            "  warnings.warn(\n"
          ]
        },
        {
          "output_type": "execute_result",
          "data": {
            "text/plain": [
              "                                                Context  \\\n",
              "0     I'm going through some things with my feelings...   \n",
              "1     I'm going through some things with my feelings...   \n",
              "2     I'm going through some things with my feelings...   \n",
              "3     I'm going through some things with my feelings...   \n",
              "4     I'm going through some things with my feelings...   \n",
              "...                                                 ...   \n",
              "3507  My grandson's step-mother sends him to school ...   \n",
              "3508  My boyfriend is in recovery from drug addictio...   \n",
              "3509  The birth mother attempted suicide several tim...   \n",
              "3510  I think adult life is making him depressed and...   \n",
              "3511  I just took a job that requires me to travel f...   \n",
              "\n",
              "                                               Response  \n",
              "0     If everyone thinks you're worthless, then mayb...  \n",
              "1     Hello, and thank you for your question and see...  \n",
              "2     First thing I'd suggest is getting the sleep y...  \n",
              "3     Therapy is essential for those that are feelin...  \n",
              "4     I first want to let you know that you are not ...  \n",
              "...                                                 ...  \n",
              "3507  Absolutely not! It is never in a child's best ...  \n",
              "3508  I'm sorry you have tension between you and you...  \n",
              "3509  The true answer is, \"no one can really say wit...  \n",
              "3510  How do you help yourself to believe you requir...  \n",
              "3511                           hmm this is a tough one!  \n",
              "\n",
              "[3512 rows x 2 columns]"
            ],
            "text/html": [
              "\n",
              "  <div id=\"df-ab05a00d-f0aa-4dc0-ab2d-e8f70de885a6\" class=\"colab-df-container\">\n",
              "    <div>\n",
              "<style scoped>\n",
              "    .dataframe tbody tr th:only-of-type {\n",
              "        vertical-align: middle;\n",
              "    }\n",
              "\n",
              "    .dataframe tbody tr th {\n",
              "        vertical-align: top;\n",
              "    }\n",
              "\n",
              "    .dataframe thead th {\n",
              "        text-align: right;\n",
              "    }\n",
              "</style>\n",
              "<table border=\"1\" class=\"dataframe\">\n",
              "  <thead>\n",
              "    <tr style=\"text-align: right;\">\n",
              "      <th></th>\n",
              "      <th>Context</th>\n",
              "      <th>Response</th>\n",
              "    </tr>\n",
              "  </thead>\n",
              "  <tbody>\n",
              "    <tr>\n",
              "      <th>0</th>\n",
              "      <td>I'm going through some things with my feelings...</td>\n",
              "      <td>If everyone thinks you're worthless, then mayb...</td>\n",
              "    </tr>\n",
              "    <tr>\n",
              "      <th>1</th>\n",
              "      <td>I'm going through some things with my feelings...</td>\n",
              "      <td>Hello, and thank you for your question and see...</td>\n",
              "    </tr>\n",
              "    <tr>\n",
              "      <th>2</th>\n",
              "      <td>I'm going through some things with my feelings...</td>\n",
              "      <td>First thing I'd suggest is getting the sleep y...</td>\n",
              "    </tr>\n",
              "    <tr>\n",
              "      <th>3</th>\n",
              "      <td>I'm going through some things with my feelings...</td>\n",
              "      <td>Therapy is essential for those that are feelin...</td>\n",
              "    </tr>\n",
              "    <tr>\n",
              "      <th>4</th>\n",
              "      <td>I'm going through some things with my feelings...</td>\n",
              "      <td>I first want to let you know that you are not ...</td>\n",
              "    </tr>\n",
              "    <tr>\n",
              "      <th>...</th>\n",
              "      <td>...</td>\n",
              "      <td>...</td>\n",
              "    </tr>\n",
              "    <tr>\n",
              "      <th>3507</th>\n",
              "      <td>My grandson's step-mother sends him to school ...</td>\n",
              "      <td>Absolutely not! It is never in a child's best ...</td>\n",
              "    </tr>\n",
              "    <tr>\n",
              "      <th>3508</th>\n",
              "      <td>My boyfriend is in recovery from drug addictio...</td>\n",
              "      <td>I'm sorry you have tension between you and you...</td>\n",
              "    </tr>\n",
              "    <tr>\n",
              "      <th>3509</th>\n",
              "      <td>The birth mother attempted suicide several tim...</td>\n",
              "      <td>The true answer is, \"no one can really say wit...</td>\n",
              "    </tr>\n",
              "    <tr>\n",
              "      <th>3510</th>\n",
              "      <td>I think adult life is making him depressed and...</td>\n",
              "      <td>How do you help yourself to believe you requir...</td>\n",
              "    </tr>\n",
              "    <tr>\n",
              "      <th>3511</th>\n",
              "      <td>I just took a job that requires me to travel f...</td>\n",
              "      <td>hmm this is a tough one!</td>\n",
              "    </tr>\n",
              "  </tbody>\n",
              "</table>\n",
              "<p>3512 rows × 2 columns</p>\n",
              "</div>\n",
              "    <div class=\"colab-df-buttons\">\n",
              "\n",
              "  <div class=\"colab-df-container\">\n",
              "    <button class=\"colab-df-convert\" onclick=\"convertToInteractive('df-ab05a00d-f0aa-4dc0-ab2d-e8f70de885a6')\"\n",
              "            title=\"Convert this dataframe to an interactive table.\"\n",
              "            style=\"display:none;\">\n",
              "\n",
              "  <svg xmlns=\"http://www.w3.org/2000/svg\" height=\"24px\" viewBox=\"0 -960 960 960\">\n",
              "    <path d=\"M120-120v-720h720v720H120Zm60-500h600v-160H180v160Zm220 220h160v-160H400v160Zm0 220h160v-160H400v160ZM180-400h160v-160H180v160Zm440 0h160v-160H620v160ZM180-180h160v-160H180v160Zm440 0h160v-160H620v160Z\"/>\n",
              "  </svg>\n",
              "    </button>\n",
              "\n",
              "  <style>\n",
              "    .colab-df-container {\n",
              "      display:flex;\n",
              "      gap: 12px;\n",
              "    }\n",
              "\n",
              "    .colab-df-convert {\n",
              "      background-color: #E8F0FE;\n",
              "      border: none;\n",
              "      border-radius: 50%;\n",
              "      cursor: pointer;\n",
              "      display: none;\n",
              "      fill: #1967D2;\n",
              "      height: 32px;\n",
              "      padding: 0 0 0 0;\n",
              "      width: 32px;\n",
              "    }\n",
              "\n",
              "    .colab-df-convert:hover {\n",
              "      background-color: #E2EBFA;\n",
              "      box-shadow: 0px 1px 2px rgba(60, 64, 67, 0.3), 0px 1px 3px 1px rgba(60, 64, 67, 0.15);\n",
              "      fill: #174EA6;\n",
              "    }\n",
              "\n",
              "    .colab-df-buttons div {\n",
              "      margin-bottom: 4px;\n",
              "    }\n",
              "\n",
              "    [theme=dark] .colab-df-convert {\n",
              "      background-color: #3B4455;\n",
              "      fill: #D2E3FC;\n",
              "    }\n",
              "\n",
              "    [theme=dark] .colab-df-convert:hover {\n",
              "      background-color: #434B5C;\n",
              "      box-shadow: 0px 1px 3px 1px rgba(0, 0, 0, 0.15);\n",
              "      filter: drop-shadow(0px 1px 2px rgba(0, 0, 0, 0.3));\n",
              "      fill: #FFFFFF;\n",
              "    }\n",
              "  </style>\n",
              "\n",
              "    <script>\n",
              "      const buttonEl =\n",
              "        document.querySelector('#df-ab05a00d-f0aa-4dc0-ab2d-e8f70de885a6 button.colab-df-convert');\n",
              "      buttonEl.style.display =\n",
              "        google.colab.kernel.accessAllowed ? 'block' : 'none';\n",
              "\n",
              "      async function convertToInteractive(key) {\n",
              "        const element = document.querySelector('#df-ab05a00d-f0aa-4dc0-ab2d-e8f70de885a6');\n",
              "        const dataTable =\n",
              "          await google.colab.kernel.invokeFunction('convertToInteractive',\n",
              "                                                    [key], {});\n",
              "        if (!dataTable) return;\n",
              "\n",
              "        const docLinkHtml = 'Like what you see? Visit the ' +\n",
              "          '<a target=\"_blank\" href=https://colab.research.google.com/notebooks/data_table.ipynb>data table notebook</a>'\n",
              "          + ' to learn more about interactive tables.';\n",
              "        element.innerHTML = '';\n",
              "        dataTable['output_type'] = 'display_data';\n",
              "        await google.colab.output.renderOutput(dataTable, element);\n",
              "        const docLink = document.createElement('div');\n",
              "        docLink.innerHTML = docLinkHtml;\n",
              "        element.appendChild(docLink);\n",
              "      }\n",
              "    </script>\n",
              "  </div>\n",
              "\n",
              "\n",
              "    <div id=\"df-f393109b-6ea3-4825-8d68-63db1312c3b6\">\n",
              "      <button class=\"colab-df-quickchart\" onclick=\"quickchart('df-f393109b-6ea3-4825-8d68-63db1312c3b6')\"\n",
              "                title=\"Suggest charts\"\n",
              "                style=\"display:none;\">\n",
              "\n",
              "<svg xmlns=\"http://www.w3.org/2000/svg\" height=\"24px\"viewBox=\"0 0 24 24\"\n",
              "     width=\"24px\">\n",
              "    <g>\n",
              "        <path d=\"M19 3H5c-1.1 0-2 .9-2 2v14c0 1.1.9 2 2 2h14c1.1 0 2-.9 2-2V5c0-1.1-.9-2-2-2zM9 17H7v-7h2v7zm4 0h-2V7h2v10zm4 0h-2v-4h2v4z\"/>\n",
              "    </g>\n",
              "</svg>\n",
              "      </button>\n",
              "\n",
              "<style>\n",
              "  .colab-df-quickchart {\n",
              "      --bg-color: #E8F0FE;\n",
              "      --fill-color: #1967D2;\n",
              "      --hover-bg-color: #E2EBFA;\n",
              "      --hover-fill-color: #174EA6;\n",
              "      --disabled-fill-color: #AAA;\n",
              "      --disabled-bg-color: #DDD;\n",
              "  }\n",
              "\n",
              "  [theme=dark] .colab-df-quickchart {\n",
              "      --bg-color: #3B4455;\n",
              "      --fill-color: #D2E3FC;\n",
              "      --hover-bg-color: #434B5C;\n",
              "      --hover-fill-color: #FFFFFF;\n",
              "      --disabled-bg-color: #3B4455;\n",
              "      --disabled-fill-color: #666;\n",
              "  }\n",
              "\n",
              "  .colab-df-quickchart {\n",
              "    background-color: var(--bg-color);\n",
              "    border: none;\n",
              "    border-radius: 50%;\n",
              "    cursor: pointer;\n",
              "    display: none;\n",
              "    fill: var(--fill-color);\n",
              "    height: 32px;\n",
              "    padding: 0;\n",
              "    width: 32px;\n",
              "  }\n",
              "\n",
              "  .colab-df-quickchart:hover {\n",
              "    background-color: var(--hover-bg-color);\n",
              "    box-shadow: 0 1px 2px rgba(60, 64, 67, 0.3), 0 1px 3px 1px rgba(60, 64, 67, 0.15);\n",
              "    fill: var(--button-hover-fill-color);\n",
              "  }\n",
              "\n",
              "  .colab-df-quickchart-complete:disabled,\n",
              "  .colab-df-quickchart-complete:disabled:hover {\n",
              "    background-color: var(--disabled-bg-color);\n",
              "    fill: var(--disabled-fill-color);\n",
              "    box-shadow: none;\n",
              "  }\n",
              "\n",
              "  .colab-df-spinner {\n",
              "    border: 2px solid var(--fill-color);\n",
              "    border-color: transparent;\n",
              "    border-bottom-color: var(--fill-color);\n",
              "    animation:\n",
              "      spin 1s steps(1) infinite;\n",
              "  }\n",
              "\n",
              "  @keyframes spin {\n",
              "    0% {\n",
              "      border-color: transparent;\n",
              "      border-bottom-color: var(--fill-color);\n",
              "      border-left-color: var(--fill-color);\n",
              "    }\n",
              "    20% {\n",
              "      border-color: transparent;\n",
              "      border-left-color: var(--fill-color);\n",
              "      border-top-color: var(--fill-color);\n",
              "    }\n",
              "    30% {\n",
              "      border-color: transparent;\n",
              "      border-left-color: var(--fill-color);\n",
              "      border-top-color: var(--fill-color);\n",
              "      border-right-color: var(--fill-color);\n",
              "    }\n",
              "    40% {\n",
              "      border-color: transparent;\n",
              "      border-right-color: var(--fill-color);\n",
              "      border-top-color: var(--fill-color);\n",
              "    }\n",
              "    60% {\n",
              "      border-color: transparent;\n",
              "      border-right-color: var(--fill-color);\n",
              "    }\n",
              "    80% {\n",
              "      border-color: transparent;\n",
              "      border-right-color: var(--fill-color);\n",
              "      border-bottom-color: var(--fill-color);\n",
              "    }\n",
              "    90% {\n",
              "      border-color: transparent;\n",
              "      border-bottom-color: var(--fill-color);\n",
              "    }\n",
              "  }\n",
              "</style>\n",
              "\n",
              "      <script>\n",
              "        async function quickchart(key) {\n",
              "          const quickchartButtonEl =\n",
              "            document.querySelector('#' + key + ' button');\n",
              "          quickchartButtonEl.disabled = true;  // To prevent multiple clicks.\n",
              "          quickchartButtonEl.classList.add('colab-df-spinner');\n",
              "          try {\n",
              "            const charts = await google.colab.kernel.invokeFunction(\n",
              "                'suggestCharts', [key], {});\n",
              "          } catch (error) {\n",
              "            console.error('Error during call to suggestCharts:', error);\n",
              "          }\n",
              "          quickchartButtonEl.classList.remove('colab-df-spinner');\n",
              "          quickchartButtonEl.classList.add('colab-df-quickchart-complete');\n",
              "        }\n",
              "        (() => {\n",
              "          let quickchartButtonEl =\n",
              "            document.querySelector('#df-f393109b-6ea3-4825-8d68-63db1312c3b6 button');\n",
              "          quickchartButtonEl.style.display =\n",
              "            google.colab.kernel.accessAllowed ? 'block' : 'none';\n",
              "        })();\n",
              "      </script>\n",
              "    </div>\n",
              "\n",
              "  <div id=\"id_ad83a4c6-9cf5-4d51-9f5d-1aff3860b434\">\n",
              "    <style>\n",
              "      .colab-df-generate {\n",
              "        background-color: #E8F0FE;\n",
              "        border: none;\n",
              "        border-radius: 50%;\n",
              "        cursor: pointer;\n",
              "        display: none;\n",
              "        fill: #1967D2;\n",
              "        height: 32px;\n",
              "        padding: 0 0 0 0;\n",
              "        width: 32px;\n",
              "      }\n",
              "\n",
              "      .colab-df-generate:hover {\n",
              "        background-color: #E2EBFA;\n",
              "        box-shadow: 0px 1px 2px rgba(60, 64, 67, 0.3), 0px 1px 3px 1px rgba(60, 64, 67, 0.15);\n",
              "        fill: #174EA6;\n",
              "      }\n",
              "\n",
              "      [theme=dark] .colab-df-generate {\n",
              "        background-color: #3B4455;\n",
              "        fill: #D2E3FC;\n",
              "      }\n",
              "\n",
              "      [theme=dark] .colab-df-generate:hover {\n",
              "        background-color: #434B5C;\n",
              "        box-shadow: 0px 1px 3px 1px rgba(0, 0, 0, 0.15);\n",
              "        filter: drop-shadow(0px 1px 2px rgba(0, 0, 0, 0.3));\n",
              "        fill: #FFFFFF;\n",
              "      }\n",
              "    </style>\n",
              "    <button class=\"colab-df-generate\" onclick=\"generateWithVariable('ds')\"\n",
              "            title=\"Generate code using this dataframe.\"\n",
              "            style=\"display:none;\">\n",
              "\n",
              "  <svg xmlns=\"http://www.w3.org/2000/svg\" height=\"24px\"viewBox=\"0 0 24 24\"\n",
              "       width=\"24px\">\n",
              "    <path d=\"M7,19H8.4L18.45,9,17,7.55,7,17.6ZM5,21V16.75L18.45,3.32a2,2,0,0,1,2.83,0l1.4,1.43a1.91,1.91,0,0,1,.58,1.4,1.91,1.91,0,0,1-.58,1.4L9.25,21ZM18.45,9,17,7.55Zm-12,3A5.31,5.31,0,0,0,4.9,8.1,5.31,5.31,0,0,0,1,6.5,5.31,5.31,0,0,0,4.9,4.9,5.31,5.31,0,0,0,6.5,1,5.31,5.31,0,0,0,8.1,4.9,5.31,5.31,0,0,0,12,6.5,5.46,5.46,0,0,0,6.5,12Z\"/>\n",
              "  </svg>\n",
              "    </button>\n",
              "    <script>\n",
              "      (() => {\n",
              "      const buttonEl =\n",
              "        document.querySelector('#id_ad83a4c6-9cf5-4d51-9f5d-1aff3860b434 button.colab-df-generate');\n",
              "      buttonEl.style.display =\n",
              "        google.colab.kernel.accessAllowed ? 'block' : 'none';\n",
              "\n",
              "      buttonEl.onclick = () => {\n",
              "        google.colab.notebook.generateWithVariable('ds');\n",
              "      }\n",
              "      })();\n",
              "    </script>\n",
              "  </div>\n",
              "\n",
              "    </div>\n",
              "  </div>\n"
            ],
            "application/vnd.google.colaboratory.intrinsic+json": {
              "type": "dataframe",
              "variable_name": "ds",
              "summary": "{\n  \"name\": \"ds\",\n  \"rows\": 3512,\n  \"fields\": [\n    {\n      \"column\": \"Context\",\n      \"properties\": {\n        \"dtype\": \"category\",\n        \"num_unique_values\": 995,\n        \"samples\": [\n          \"My mother has Alzheimer's and she has become so nasty and mean to everyone and she always asks for unrealistic, silly or meaningless items.  I get so frustrated and angry, but then I feel guilty because I know it probably isn\\u2019t her fault.  How can I cope with feeling like this?\",\n          \"How do I stop those thoughts?\",\n          \"For the past week or so me and my boyfriend have been fighting. He has been making a lot of bad choices and he is currently hospitalized. I'm barely eating or sleeping because I'm constantly worried about him. Everyone else in my life says that I should just forget about him and walk away. What should I do?\"\n        ],\n        \"semantic_type\": \"\",\n        \"description\": \"\"\n      }\n    },\n    {\n      \"column\": \"Response\",\n      \"properties\": {\n        \"dtype\": \"string\",\n        \"num_unique_values\": 2480,\n        \"samples\": [\n          \"Check out my blog post on: \\u00a0Four-ways-add-self-esteem-friends-list/I hope this offers you some nuggets of helpfulness!\",\n          \"It is possible that you have depression, but you could also be experiencing some other changes that mean that you have feelings of being sad without actually being depressed. Your statement makes it sound like you've stopped caring about your work, but you're still going to work and doing your work. It almost sounds like you are dissatisfied with your work. Do you like what you do?\\u00a0When you said that life is pointless, what makes it that way? What is keeping you going? Is there something you can do each day that you can find meaning in?You mentioned that you are not sure if you need help or are just tired. It sounds like you could certainly benefit from talking with someone about more specifics.I'm curious about how long you have felt this way and if you are aware of anything that is contributing to it.\",\n          \"There's a narrative approach that we call nightmare \\\"rescripting\\\" that may be helpful.Since we can't really control the nature of our dreams while they're happening, we try to alter them while we are in a waking state.\\u00a0\\u00a0In a nutshell, this refers to first writing out in detail the events of a recurring nightmare you have. Typically, there is an element of fear, danger or helplessness.Second, we rescript the nightmare by changing what happens in the dream in a way that engenders feelings of empowerment, control, competence, and/or safety. In other words, if the nightmare involved being pursued or assaulted, we might change the events of the story so that you call the police, get to a place of safety, or even fight back and protect yourself.Third, you can reread this new version of the dream over and over again, so that it becomes a well rehearsed story. The effect of this can make it so that the next time your mind goes towards the nightmare while sleeping, this new, more hopeful and empowering story competes with the old one and reduces the level of distress associated with the dream. Best of luck!\"\n        ],\n        \"semantic_type\": \"\",\n        \"description\": \"\"\n      }\n    }\n  ]\n}"
            }
          },
          "metadata": {},
          "execution_count": 2
        }
      ],
      "source": [
        "from IPython import get_ipython\n",
        "from IPython.display import display\n",
        "from datasets import load_dataset\n",
        "import pandas as pd\n",
        "\n",
        "ds = pd.read_json(\"hf://datasets/Amod/mental_health_counseling_conversations/combined_dataset.json\", lines=True)\n",
        "ds"
      ]
    },
    {
      "cell_type": "code",
      "source": [
        "from transformers import AutoModelForCausalLM, AutoTokenizer\n",
        "from transformers import pipeline\n",
        "import torch\n",
        "\n",
        "model_name = \"meta-llama/Llama-3.2-1B-Instruct\"\n",
        "device = \"cuda\" #Metal Performance Shaders\n",
        "tokenizer = AutoTokenizer.from_pretrained(model_name, padding_side=\"right\") #padding_side show where padding tokens should be added to sequences\n",
        "tokenizer.pad_token = tokenizer.eos_token\n",
        "model = AutoModelForCausalLM.from_pretrained(model_name,\n",
        "                                            torch_dtype=torch.bfloat16,\n",
        "                                            device_map=device)"
      ],
      "metadata": {
        "id": "GpN5y694GDO3",
        "outputId": "17f179ce-85f7-4332-d725-58109183f120",
        "colab": {
          "base_uri": "https://localhost:8080/",
          "height": 264,
          "referenced_widgets": [
            "e47cd93495344de0802d3bcb20a9603a",
            "52fbafb447a44ba79e58eddd40303ffb",
            "7e752515aff9442caa299c7827a567f7",
            "a8fe05407ee8485fb402bcce9353d895",
            "6443fa52d25247fc82c9261673144251",
            "bf73c5d575df431ea1b871c7033b0593",
            "2735207b2a2a4908802d7514718e6f67",
            "06cd94e0aeac468aaf1782bb587ad6de",
            "29d01b52fe1c4dc6b256078de02164af",
            "0e6e9e86111d4f9ab2a4c56bda2381ea",
            "f2edd628d20a4920bb765c569d8bbd31",
            "4453396ac6a044068208148ae85706cb",
            "fb322bc946e04dc888350d6695f2bfb3",
            "58900013c57e42599d6b81f924ff7939",
            "c8b475429ec34e798f15dc0407662600",
            "5c5237d026df4670b9e310904210b796",
            "f40d4239e14f4025adb7c64a5fb640b4",
            "e544759e63ce4bb0ac286724b3975d97",
            "fe795e8313d54a4ca5f76f0374d09c8d",
            "969c5b1d874445b3a8f14df1e96074f7",
            "9cf88b9fae174b1eb36df20e92c2f317",
            "46b5199f500f4fe8af6019aefe12af2e",
            "080210464dde4c1bb048648bf9735bcf",
            "f4b2c95c6ed94568bebab9be9bb00d4e",
            "980b554633f44b71aa572a7dfb65f8b4",
            "cd31d14ad7664878ab601020650d9d46",
            "437ef43353dd46a1a6fb372ca4833bc8",
            "024d220015b049a2be17c35e12f0695a",
            "9dff94dd288f4021b7aeabd34680f673",
            "7d2ab717367e448784a968938bb1dca7",
            "73e936b4aa1841be97d430fbb49fb1e0",
            "5c7cbef229b54776b5da240666556161",
            "5c2f67f5701f4430aa0811ea5259704d",
            "0fff54de862a489b832ba32d4a67ca1b",
            "588bb1faed7447b39f1a1f016bc2367d",
            "6ab2cbdefa67492f9dc3437397819c00",
            "7cc8783fea17412fb03ed5b6e16db50b",
            "ced9dbd1286b40c79e3ea68b4d4b2945",
            "5ea3d5b19f5d40cd828315565030a29d",
            "d427da142ecc400eb8daede36198bc6f",
            "bdc294f911bb45d6959e5cea817214af",
            "176428b0f09747e6b5a5799f1d7a6be3",
            "6b0eebe5ce704c2b9594753c83aac486",
            "0d78f6411ddf43e6acf126934f481748",
            "c4ed18ae77e644f889696f9f560b740f",
            "9abe3a7812ce4a38a8223f4be6c83807",
            "876afbddf93840809d05f49b11b3fa99",
            "12b0d7111249437ca3934c309aa5a496",
            "362f56cba1114812a14a4e5b6c41789f",
            "6a72d35dd0b74642afdf03e7c743185f",
            "cc8efd0c0d6a46f49b2e7759a2e22072",
            "a27c8d9c082041b2a14c88a66b17f900",
            "8e9982029aeb4724865ca09f9032febe",
            "169728b748c04f3aac4958a3af240d23",
            "96175502e30c41f991329d4cb1fbe3e2",
            "f9eabbe7eb74493ca907a57f4291bfff",
            "d22690c632ac4a65ad74528496bd18be",
            "67da396eb2bd499381406ac68a7af306",
            "2ea657a5abd2472bad6e15ec9c7bf2d3",
            "b7827f7f6e1848c687db20457254b858",
            "ceed45e778ba4a5db61a459e1e719a9f",
            "49d87d1fc4c844baa3351438f454f1b0",
            "a39ec40036584a378fd3e376da78ede8",
            "65a9e32ee36944f89007e70e51f0832e",
            "36cab20b725a4837b9f94129d489c007",
            "10d66f6c715740a59b52806a432b0a3f"
          ]
        }
      },
      "execution_count": 3,
      "outputs": [
        {
          "output_type": "display_data",
          "data": {
            "text/plain": [
              "tokenizer_config.json:   0%|          | 0.00/54.5k [00:00<?, ?B/s]"
            ],
            "application/vnd.jupyter.widget-view+json": {
              "version_major": 2,
              "version_minor": 0,
              "model_id": "e47cd93495344de0802d3bcb20a9603a"
            }
          },
          "metadata": {}
        },
        {
          "output_type": "display_data",
          "data": {
            "text/plain": [
              "tokenizer.json:   0%|          | 0.00/9.09M [00:00<?, ?B/s]"
            ],
            "application/vnd.jupyter.widget-view+json": {
              "version_major": 2,
              "version_minor": 0,
              "model_id": "4453396ac6a044068208148ae85706cb"
            }
          },
          "metadata": {}
        },
        {
          "output_type": "display_data",
          "data": {
            "text/plain": [
              "special_tokens_map.json:   0%|          | 0.00/296 [00:00<?, ?B/s]"
            ],
            "application/vnd.jupyter.widget-view+json": {
              "version_major": 2,
              "version_minor": 0,
              "model_id": "080210464dde4c1bb048648bf9735bcf"
            }
          },
          "metadata": {}
        },
        {
          "output_type": "display_data",
          "data": {
            "text/plain": [
              "config.json:   0%|          | 0.00/877 [00:00<?, ?B/s]"
            ],
            "application/vnd.jupyter.widget-view+json": {
              "version_major": 2,
              "version_minor": 0,
              "model_id": "0fff54de862a489b832ba32d4a67ca1b"
            }
          },
          "metadata": {}
        },
        {
          "output_type": "stream",
          "name": "stderr",
          "text": [
            "Xet Storage is enabled for this repo, but the 'hf_xet' package is not installed. Falling back to regular HTTP download. For better performance, install the package with: `pip install huggingface_hub[hf_xet]` or `pip install hf_xet`\n",
            "WARNING:huggingface_hub.file_download:Xet Storage is enabled for this repo, but the 'hf_xet' package is not installed. Falling back to regular HTTP download. For better performance, install the package with: `pip install huggingface_hub[hf_xet]` or `pip install hf_xet`\n"
          ]
        },
        {
          "output_type": "display_data",
          "data": {
            "text/plain": [
              "model.safetensors:   0%|          | 0.00/2.47G [00:00<?, ?B/s]"
            ],
            "application/vnd.jupyter.widget-view+json": {
              "version_major": 2,
              "version_minor": 0,
              "model_id": "c4ed18ae77e644f889696f9f560b740f"
            }
          },
          "metadata": {}
        },
        {
          "output_type": "display_data",
          "data": {
            "text/plain": [
              "generation_config.json:   0%|          | 0.00/189 [00:00<?, ?B/s]"
            ],
            "application/vnd.jupyter.widget-view+json": {
              "version_major": 2,
              "version_minor": 0,
              "model_id": "f9eabbe7eb74493ca907a57f4291bfff"
            }
          },
          "metadata": {}
        }
      ]
    },
    {
      "cell_type": "code",
      "source": [
        "generation_pipeline = pipeline(task=\"text-generation\", #pipeline เชื่อมต่อโมเดลกับขั้นตอนอื่น ๆ\n",
        "                               model=model, tokenizer=tokenizer)\n",
        "generation_pipeline(\"Hello\", max_new_tokens=25)"
      ],
      "metadata": {
        "id": "6eHiQjtMG9mO",
        "colab": {
          "base_uri": "https://localhost:8080/"
        },
        "outputId": "c08e6799-f5da-464e-983e-c1fe76008a14"
      },
      "execution_count": 4,
      "outputs": [
        {
          "output_type": "stream",
          "name": "stderr",
          "text": [
            "Device set to use cuda\n"
          ]
        },
        {
          "output_type": "execute_result",
          "data": {
            "text/plain": [
              "[{'generated_text': \"Hello, I am a bit of a tech enthusiast, and I am curious about the world of AI and machine learning. I've\"}]"
            ]
          },
          "metadata": {},
          "execution_count": 4
        }
      ]
    },
    {
      "cell_type": "code",
      "source": [
        "prompts = [\n",
        "    \"hello how are you?\",\n",
        "    \"The nigger\"\n",
        "]\n",
        "\n",
        "tokenized = tokenizer(prompts,padding=True, return_tensors=\"pt\").to(device)\n",
        "\n",
        "print(tokenized)\n",
        "print(tokenized[\"input_ids\"].shape)"
      ],
      "metadata": {
        "id": "0A1vknsMBsGt",
        "colab": {
          "base_uri": "https://localhost:8080/"
        },
        "outputId": "e545c8e4-8c2b-4a12-d2b4-dcfa028c115b"
      },
      "execution_count": 5,
      "outputs": [
        {
          "output_type": "stream",
          "name": "stdout",
          "text": [
            "{'input_ids': tensor([[128000,  15339,   1268,    527,    499,     30],\n",
            "        [128000,    791,    308,   4601, 128009, 128009]], device='cuda:0'), 'attention_mask': tensor([[1, 1, 1, 1, 1, 1],\n",
            "        [1, 1, 1, 1, 0, 0]], device='cuda:0')}\n",
            "torch.Size([2, 6])\n"
          ]
        }
      ]
    },
    {
      "cell_type": "code",
      "source": [
        "tokenizer.batch_decode(tokenized[\"input_ids\"])"
      ],
      "metadata": {
        "id": "24aLqejTE61e",
        "colab": {
          "base_uri": "https://localhost:8080/"
        },
        "outputId": "05289357-520d-41be-d219-713b554d2677"
      },
      "execution_count": 6,
      "outputs": [
        {
          "output_type": "execute_result",
          "data": {
            "text/plain": [
              "['<|begin_of_text|>hello how are you?',\n",
              " '<|begin_of_text|>The nigger<|eot_id|><|eot_id|>']"
            ]
          },
          "metadata": {},
          "execution_count": 6
        }
      ]
    },
    {
      "cell_type": "code",
      "source": [
        "tokenized[\"attention_mask\"] #tell which have value"
      ],
      "metadata": {
        "id": "Rfs_WYnAFHb1",
        "colab": {
          "base_uri": "https://localhost:8080/"
        },
        "outputId": "d2d0ac55-1e0a-45cf-d560-eb71947afbc5"
      },
      "execution_count": 7,
      "outputs": [
        {
          "output_type": "execute_result",
          "data": {
            "text/plain": [
              "tensor([[1, 1, 1, 1, 1, 1],\n",
              "        [1, 1, 1, 1, 0, 0]], device='cuda:0')"
            ]
          },
          "metadata": {},
          "execution_count": 7
        }
      ]
    },
    {
      "cell_type": "code",
      "source": [
        "prompt_template = [\n",
        "    {\n",
        "      \"role\" : \"system\",\n",
        "      \"content\" : \"You are a smart AI assistant\"\n",
        "    },\n",
        "    {\n",
        "        \"role\" : \"user\",\n",
        "        \"content\" : \"Where does the sun rises?\"\n",
        "    },\n",
        "    {\n",
        "        \"role\" : \"assistant\",\n",
        "        \"content\" : \"Aye aye\"\n",
        "    }\n",
        "]\n",
        "\n",
        "tokenizer.pad_token = tokenizer.eos_token\n",
        "\n",
        "tokenized = tokenizer.apply_chat_template( #converts prompt from chat message format to a single string sequence\n",
        "    prompt_template,\n",
        "    add_generation_prompt=True,\n",
        "    tokenize=True, #if set True, will get number that easily insert to model\n",
        "    padding=True,\n",
        "    return_tensors=\"pt\"\n",
        ")\n",
        "\n",
        "print(tokenized)"
      ],
      "metadata": {
        "id": "AW4cUuYQFkpi",
        "colab": {
          "base_uri": "https://localhost:8080/"
        },
        "outputId": "77c7df12-71d0-46aa-abfa-37a8c02c9739"
      },
      "execution_count": 8,
      "outputs": [
        {
          "output_type": "stream",
          "name": "stdout",
          "text": [
            "tensor([[128000, 128006,   9125, 128007,    271,  38766,   1303,  33025,   2696,\n",
            "             25,   6790,    220,   2366,     18,    198,  15724,   2696,     25,\n",
            "            220,   1591,   3297,    220,   2366,     20,    271,   2675,    527,\n",
            "            264,   7941,  15592,  18328, 128009, 128006,    882, 128007,    271,\n",
            "           9241,   1587,    279,   7160,  38268,     30, 128009, 128006,  78191,\n",
            "         128007,    271,     32,   9188,    264,   9188, 128009, 128006,  78191,\n",
            "         128007,    271]])\n"
          ]
        }
      ]
    },
    {
      "cell_type": "code",
      "source": [
        "out = model.generate(tokenized.to(device), max_new_tokens=30)"
      ],
      "metadata": {
        "id": "y4UKv3wRDPSo",
        "colab": {
          "base_uri": "https://localhost:8080/"
        },
        "outputId": "c8017dfa-e88e-4183-8f55-49c9eac09e88"
      },
      "execution_count": 9,
      "outputs": [
        {
          "output_type": "stream",
          "name": "stderr",
          "text": [
            "The attention mask and the pad token id were not set. As a consequence, you may observe unexpected behavior. Please pass your input's `attention_mask` to obtain reliable results.\n",
            "Setting `pad_token_id` to `eos_token_id`:128001 for open-end generation.\n",
            "The attention mask is not set and cannot be inferred from input because pad token is same as eos token. As a consequence, you may observe unexpected behavior. Please pass your input's `attention_mask` to obtain reliable results.\n"
          ]
        }
      ]
    },
    {
      "cell_type": "code",
      "source": [
        "decoded = tokenizer.batch_decode(out)\n",
        "print(decoded[0])"
      ],
      "metadata": {
        "id": "4hTzeeLxBqf1",
        "colab": {
          "base_uri": "https://localhost:8080/"
        },
        "outputId": "45217766-eae9-447c-c4cf-84e74c4281cb"
      },
      "execution_count": 10,
      "outputs": [
        {
          "output_type": "stream",
          "name": "stdout",
          "text": [
            "<|begin_of_text|><|start_header_id|>system<|end_header_id|>\n",
            "\n",
            "Cutting Knowledge Date: December 2023\n",
            "Today Date: 28 May 2025\n",
            "\n",
            "You are a smart AI assistant<|eot_id|><|start_header_id|>user<|end_header_id|>\n",
            "\n",
            "Where does the sun rises?<|eot_id|><|start_header_id|>assistant<|end_header_id|>\n",
            "\n",
            "Aye aye<|eot_id|><|start_header_id|>assistant<|end_header_id|>\n",
            "\n",
            "The sun rises in the eastern hemisphere of the Earth, specifically at the location where the Earth's axis is tilted towards the Sun. This is because the\n"
          ]
        }
      ]
    },
    {
      "cell_type": "code",
      "source": [
        "import torch.nn as nn"
      ],
      "metadata": {
        "id": "bbOxHF7tN-M9"
      },
      "execution_count": 11,
      "outputs": []
    },
    {
      "cell_type": "markdown",
      "source": [
        "predict next word"
      ],
      "metadata": {
        "id": "FC_WWZV22B9m"
      }
    },
    {
      "cell_type": "code",
      "source": [
        " sentence = \"you are game\"\n",
        " input_ids = tokenizer([sentence], return_tensors=\"pt\")[\"input_ids\"].to(device) # return_tensors use to change type to tensor from list\n",
        "\n",
        " out = model(input_ids = input_ids) # model(input) does one step of generation by outputting the probabilities of next word\n",
        " out"
      ],
      "metadata": {
        "id": "YadrUgNxIkhd",
        "colab": {
          "base_uri": "https://localhost:8080/"
        },
        "outputId": "78f20b68-5c92-40e5-a22a-298f994d4a43"
      },
      "execution_count": 12,
      "outputs": [
        {
          "output_type": "execute_result",
          "data": {
            "text/plain": [
              "CausalLMOutputWithPast(loss=None, logits=tensor([[[ 2.8438,  3.5781,  7.0312,  ..., -1.2422, -1.2422, -1.2422],\n",
              "         [ 8.0625,  9.1875,  7.5312,  ..., -0.8984, -0.8984, -0.8984],\n",
              "         [ 8.1250,  7.3438,  4.0938,  ..., -3.1562, -3.1562, -3.1562],\n",
              "         [12.8125,  7.5938,  8.3125,  ..., -2.3750, -2.3750, -2.3750]]],\n",
              "       device='cuda:0', dtype=torch.bfloat16, grad_fn=<UnsafeViewBackward0>), past_key_values=<transformers.cache_utils.DynamicCache object at 0x7d459ad9bc50>, hidden_states=None, attentions=None)"
            ]
          },
          "metadata": {},
          "execution_count": 12
        }
      ]
    },
    {
      "cell_type": "code",
      "source": [
        "# predict what is the next word\n",
        "probability_dist = nn.Softmax(dim=-1)(out.logits[0, -1]) # softmax change to probability\n",
        "print(out.logits)\n",
        "print(\"_____________________________\")\n",
        "print(out.logits.shape) # models store millions of subwords, vocab has 128256 tokens\n",
        "print(\"_____________________________\")\n",
        "print(input_ids)\n",
        "print(\"_____________________________\")\n",
        "print(probability_dist)\n",
        "print(\"_____________________________\")\n",
        "print(out.logits.argmax(), out.logits.argmax(axis=-1)) #argmax find maximum value in the list\n",
        "print(tokenizer.decode(out.logits.argmax(axis=-1)[0, -1]))"
      ],
      "metadata": {
        "id": "XciZrCQdLoYF",
        "colab": {
          "base_uri": "https://localhost:8080/"
        },
        "outputId": "8247ac12-41f7-47bd-fc2a-3cead5c5bc8f"
      },
      "execution_count": 13,
      "outputs": [
        {
          "output_type": "stream",
          "name": "stdout",
          "text": [
            "tensor([[[ 2.8438,  3.5781,  7.0312,  ..., -1.2422, -1.2422, -1.2422],\n",
            "         [ 8.0625,  9.1875,  7.5312,  ..., -0.8984, -0.8984, -0.8984],\n",
            "         [ 8.1250,  7.3438,  4.0938,  ..., -3.1562, -3.1562, -3.1562],\n",
            "         [12.8125,  7.5938,  8.3125,  ..., -2.3750, -2.3750, -2.3750]]],\n",
            "       device='cuda:0', dtype=torch.bfloat16, grad_fn=<UnsafeViewBackward0>)\n",
            "_____________________________\n",
            "torch.Size([1, 4, 128256])\n",
            "_____________________________\n",
            "tensor([[128000,   9514,    527,   1847]], device='cuda:0')\n",
            "_____________________________\n",
            "tensor([4.9744e-03, 2.6941e-05, 5.5313e-05,  ..., 1.2660e-09, 1.2660e-09,\n",
            "        1.2660e-09], device='cuda:0', dtype=torch.bfloat16,\n",
            "       grad_fn=<SoftmaxBackward0>)\n",
            "_____________________________\n",
            "tensor(256776, device='cuda:0') tensor([[16309,   649,   264,   311]], device='cuda:0')\n",
            " to\n"
          ]
        }
      ]
    },
    {
      "cell_type": "markdown",
      "source": [
        "loss function (training on sequence)"
      ],
      "metadata": {
        "id": "T5moXm3iaRf1"
      }
    },
    {
      "cell_type": "markdown",
      "source": [],
      "metadata": {
        "id": "4aaCTNNhefLE"
      }
    },
    {
      "cell_type": "code",
      "source": [
        "sentence = [\"use teng service instead.\"]\n",
        "tokenized = tokenizer(sentence, return_tensors=\"pt\")\n",
        "print(tokenized)\n",
        "tokenized2 = tokenizer(sentence, return_tensors=\"pt\")[\"input_ids\"] #print only input_ids\n",
        "print(tokenized2)\n",
        "print(tokenizer.batch_decode(tokenized2))"
      ],
      "metadata": {
        "id": "ewXM5dXANWUa",
        "colab": {
          "base_uri": "https://localhost:8080/"
        },
        "outputId": "02676f65-b8de-4515-eb23-49d160b22b80"
      },
      "execution_count": 14,
      "outputs": [
        {
          "output_type": "stream",
          "name": "stdout",
          "text": [
            "{'input_ids': tensor([[128000,    817,  42249,   2532,   4619,     13]]), 'attention_mask': tensor([[1, 1, 1, 1, 1, 1]])}\n",
            "tensor([[128000,    817,  42249,   2532,   4619,     13]])\n",
            "['<|begin_of_text|>use teng service instead.']\n"
          ]
        }
      ]
    },
    {
      "cell_type": "code",
      "source": [
        "input_ids = tokenized[\"input_ids\"][:, :-1]\n",
        "target_ids = tokenized[\"input_ids\"][:, 1:]\n",
        "\n",
        "print(\"Input Seq: \", input_ids)\n",
        "print(\"Target Seq: \", tokenizer.batch_decode(input_ids))\n",
        "print(target_ids)\n",
        "print(tokenizer.batch_decode(target_ids))"
      ],
      "metadata": {
        "colab": {
          "base_uri": "https://localhost:8080/"
        },
        "id": "Z03Uik9ogUeA",
        "outputId": "b4ad4e3d-5f26-4c5e-c29d-10eb4bc26f57"
      },
      "execution_count": 15,
      "outputs": [
        {
          "output_type": "stream",
          "name": "stdout",
          "text": [
            "Input Seq:  tensor([[128000,    817,  42249,   2532,   4619]])\n",
            "Target Seq:  ['<|begin_of_text|>use teng service instead']\n",
            "tensor([[  817, 42249,  2532,  4619,    13]])\n",
            "['use teng service instead.']\n"
          ]
        }
      ]
    },
    {
      "cell_type": "code",
      "source": [
        "ques = \"what service should I use?\"\n",
        "answer = \"Teng Service\"\n",
        "\n",
        "prompt = [\n",
        "    {\"role\": \"user\", \"content\": \"what service should I use?\"},\n",
        "    {\"role\": \"assistant\", \"content\": \"Service:\"}\n",
        "]\n",
        "answer = \"Teng Service\"\n",
        "\n",
        "chat_template = tokenizer.apply_chat_template(\n",
        "    prompt,\n",
        "    continue_final_message=True,\n",
        "    tokenize=False\n",
        ")\n",
        "print(chat_template)"
      ],
      "metadata": {
        "colab": {
          "base_uri": "https://localhost:8080/"
        },
        "id": "Jo21HFcPl7tF",
        "outputId": "f60e75b9-37c1-4561-8f2c-840adc884adc"
      },
      "execution_count": 16,
      "outputs": [
        {
          "output_type": "stream",
          "name": "stdout",
          "text": [
            "<|begin_of_text|><|start_header_id|>system<|end_header_id|>\n",
            "\n",
            "Cutting Knowledge Date: December 2023\n",
            "Today Date: 28 May 2025\n",
            "\n",
            "<|eot_id|><|start_header_id|>user<|end_header_id|>\n",
            "\n",
            "what service should I use?<|eot_id|><|start_header_id|>assistant<|end_header_id|>\n",
            "\n",
            "Service:\n"
          ]
        }
      ]
    },
    {
      "cell_type": "code",
      "source": [
        "full_response = chat_template + \" \" + answer + tokenizer.eos_token\n",
        "print(full_response)"
      ],
      "metadata": {
        "colab": {
          "base_uri": "https://localhost:8080/"
        },
        "id": "bC85_Zxct9gg",
        "outputId": "d50c636a-7730-404f-edec-eb0e316bdea9"
      },
      "execution_count": 17,
      "outputs": [
        {
          "output_type": "stream",
          "name": "stdout",
          "text": [
            "<|begin_of_text|><|start_header_id|>system<|end_header_id|>\n",
            "\n",
            "Cutting Knowledge Date: December 2023\n",
            "Today Date: 28 May 2025\n",
            "\n",
            "<|eot_id|><|start_header_id|>user<|end_header_id|>\n",
            "\n",
            "what service should I use?<|eot_id|><|start_header_id|>assistant<|end_header_id|>\n",
            "\n",
            "Service: Teng Service<|eot_id|>\n"
          ]
        }
      ]
    },
    {
      "cell_type": "code",
      "source": [
        "tokenized = tokenizer(full_response, return_tensors=\"pt\", add_special_tokens=False)[\"input_ids\"]\n",
        "print(tokenized)\n",
        "print(tokenizer.batch_decode(tokenized))"
      ],
      "metadata": {
        "colab": {
          "base_uri": "https://localhost:8080/"
        },
        "id": "R8vTrIbgvU_b",
        "outputId": "ef5de02e-8426-402f-c517-60444faebdf9"
      },
      "execution_count": 18,
      "outputs": [
        {
          "output_type": "stream",
          "name": "stdout",
          "text": [
            "tensor([[128000, 128006,   9125, 128007,    271,  38766,   1303,  33025,   2696,\n",
            "             25,   6790,    220,   2366,     18,    198,  15724,   2696,     25,\n",
            "            220,   1591,   3297,    220,   2366,     20,    271, 128009, 128006,\n",
            "            882, 128007,    271,  12840,   2532,   1288,    358,   1005,     30,\n",
            "         128009, 128006,  78191, 128007,    271,   1898,     25,    350,    833,\n",
            "           5475, 128009]])\n",
            "['<|begin_of_text|><|start_header_id|>system<|end_header_id|>\\n\\nCutting Knowledge Date: December 2023\\nToday Date: 28 May 2025\\n\\n<|eot_id|><|start_header_id|>user<|end_header_id|>\\n\\nwhat service should I use?<|eot_id|><|start_header_id|>assistant<|end_header_id|>\\n\\nService: Teng Service<|eot_id|>']\n"
          ]
        }
      ]
    },
    {
      "cell_type": "code",
      "source": [
        "input_ids = tokenized[:, :-1]\n",
        "target_ids = tokenized[:, 1:]\n",
        "\n",
        "print(\"Input Seq: \", input_ids)\n",
        "print(\"Target Seq: \", tokenizer.batch_decode(input_ids))\n",
        "print(target_ids)\n",
        "print(tokenizer.batch_decode(target_ids))"
      ],
      "metadata": {
        "colab": {
          "base_uri": "https://localhost:8080/"
        },
        "id": "JONbiApzwR8r",
        "outputId": "29e39a5f-946d-41b0-8c14-cba59b9c7700"
      },
      "execution_count": 19,
      "outputs": [
        {
          "output_type": "stream",
          "name": "stdout",
          "text": [
            "Input Seq:  tensor([[128000, 128006,   9125, 128007,    271,  38766,   1303,  33025,   2696,\n",
            "             25,   6790,    220,   2366,     18,    198,  15724,   2696,     25,\n",
            "            220,   1591,   3297,    220,   2366,     20,    271, 128009, 128006,\n",
            "            882, 128007,    271,  12840,   2532,   1288,    358,   1005,     30,\n",
            "         128009, 128006,  78191, 128007,    271,   1898,     25,    350,    833,\n",
            "           5475]])\n",
            "Target Seq:  ['<|begin_of_text|><|start_header_id|>system<|end_header_id|>\\n\\nCutting Knowledge Date: December 2023\\nToday Date: 28 May 2025\\n\\n<|eot_id|><|start_header_id|>user<|end_header_id|>\\n\\nwhat service should I use?<|eot_id|><|start_header_id|>assistant<|end_header_id|>\\n\\nService: Teng Service']\n",
            "tensor([[128006,   9125, 128007,    271,  38766,   1303,  33025,   2696,     25,\n",
            "           6790,    220,   2366,     18,    198,  15724,   2696,     25,    220,\n",
            "           1591,   3297,    220,   2366,     20,    271, 128009, 128006,    882,\n",
            "         128007,    271,  12840,   2532,   1288,    358,   1005,     30, 128009,\n",
            "         128006,  78191, 128007,    271,   1898,     25,    350,    833,   5475,\n",
            "         128009]])\n",
            "['<|start_header_id|>system<|end_header_id|>\\n\\nCutting Knowledge Date: December 2023\\nToday Date: 28 May 2025\\n\\n<|eot_id|><|start_header_id|>user<|end_header_id|>\\n\\nwhat service should I use?<|eot_id|><|start_header_id|>assistant<|end_header_id|>\\n\\nService: Teng Service<|eot_id|>']\n"
          ]
        }
      ]
    },
    {
      "cell_type": "code",
      "source": [
        "# demonstrate of using tokenizer\n",
        "print(tokenizer.convert_ids_to_tokens(32346))"
      ],
      "metadata": {
        "colab": {
          "base_uri": "https://localhost:8080/"
        },
        "id": "xQH9DTM2xGNy",
        "outputId": "58ba0579-12d4-4136-d1d1-71a716b3cdc2"
      },
      "execution_count": 20,
      "outputs": [
        {
          "output_type": "stream",
          "name": "stdout",
          "text": [
            "Too\n"
          ]
        }
      ]
    },
    {
      "cell_type": "code",
      "source": [
        "labels_tokenized = tokenizer([\" \" + answer], add_special_tokens=False, return_tensors=\"pt\")[\"input_ids\"] # answer in prompt\n",
        "print(labels_tokenized)\n",
        "print(tokenizer.batch_decode(labels_tokenized))"
      ],
      "metadata": {
        "colab": {
          "base_uri": "https://localhost:8080/"
        },
        "id": "kvkKl_zdx4MI",
        "outputId": "07b2baf1-d73f-4b9b-b68f-6b5abd093eaa"
      },
      "execution_count": 21,
      "outputs": [
        {
          "output_type": "stream",
          "name": "stdout",
          "text": [
            "tensor([[ 350,  833, 5475]])\n",
            "[' Teng Service']\n"
          ]
        }
      ]
    },
    {
      "cell_type": "code",
      "source": [
        "input_ids.shape"
      ],
      "metadata": {
        "colab": {
          "base_uri": "https://localhost:8080/"
        },
        "id": "CqfRAsVS1bNF",
        "outputId": "41326c0c-efef-416d-b4ca-af977540b71c"
      },
      "execution_count": 22,
      "outputs": [
        {
          "output_type": "execute_result",
          "data": {
            "text/plain": [
              "torch.Size([1, 46])"
            ]
          },
          "metadata": {},
          "execution_count": 22
        }
      ]
    },
    {
      "cell_type": "code",
      "source": [
        "labels_tokenized2 = tokenizer([\" \" + answer + tokenizer.eos_token], add_special_tokens=False, return_tensors=\"pt\", padding=\"max_length\", max_length=target_ids.shape[1])[\"input_ids\"]\n",
        "print(labels_tokenized2)"
      ],
      "metadata": {
        "colab": {
          "base_uri": "https://localhost:8080/"
        },
        "id": "9ZCF_57c0w5V",
        "outputId": "e6854734-21e9-46ba-c0b5-d8a043ea2aa8"
      },
      "execution_count": 23,
      "outputs": [
        {
          "output_type": "stream",
          "name": "stdout",
          "text": [
            "tensor([[   350,    833,   5475, 128009, 128009, 128009, 128009, 128009, 128009,\n",
            "         128009, 128009, 128009, 128009, 128009, 128009, 128009, 128009, 128009,\n",
            "         128009, 128009, 128009, 128009, 128009, 128009, 128009, 128009, 128009,\n",
            "         128009, 128009, 128009, 128009, 128009, 128009, 128009, 128009, 128009,\n",
            "         128009, 128009, 128009, 128009, 128009, 128009, 128009, 128009, 128009,\n",
            "         128009]])\n"
          ]
        }
      ]
    },
    {
      "cell_type": "code",
      "source": [
        "labels_tokenized_fixed = torch.where(labels_tokenized2 != tokenizer.pad_token_id, labels_tokenized2, -100)\n",
        "labels_tokenized_fixed"
      ],
      "metadata": {
        "colab": {
          "base_uri": "https://localhost:8080/"
        },
        "id": "h7kyHlGCy2zo",
        "outputId": "f470462c-d24e-49c4-e186-d2fab08963dc"
      },
      "execution_count": 24,
      "outputs": [
        {
          "output_type": "execute_result",
          "data": {
            "text/plain": [
              "tensor([[ 350,  833, 5475, -100, -100, -100, -100, -100, -100, -100, -100, -100,\n",
              "         -100, -100, -100, -100, -100, -100, -100, -100, -100, -100, -100, -100,\n",
              "         -100, -100, -100, -100, -100, -100, -100, -100, -100, -100, -100, -100,\n",
              "         -100, -100, -100, -100, -100, -100, -100, -100, -100, -100]])"
            ]
          },
          "metadata": {},
          "execution_count": 24
        }
      ]
    },
    {
      "cell_type": "code",
      "source": [
        "import torch # Assuming torch is used for tensor operations\n",
        "\n",
        "def generate_input_output_pair(prompt, target_responses):\n",
        "    chat_templates = tokenizer.apply_chat_template(prompt, continue_final_message=True, tokenize=False)\n",
        "    full_response_text = [\n",
        "        chat_template + \" \" + target_response + tokenizer.eos_token\n",
        "        for chat_template, target_response in zip(chat_templates, target_responses)\n",
        "    ]\n",
        "\n",
        "    input_ids_tokenized = tokenizer(full_response_text, return_tensors=\"pt\", add_special_tokens=False)[\"input_ids\"]\n",
        "\n",
        "    labels_tokenized = tokenizer([\n",
        "        \"\" + response + tokenizer.eos_token for response in target_responses\n",
        "    ], add_special_tokens=False, return_tensors=\"pt\", padding=\"max_length\", max_length=input_ids_tokenized.shape[1])[\"input_ids\"]\n",
        "\n",
        "    labels_tokenized_fixed = torch.where(labels_tokenized == tokenizer.pad_token_id, labels_tokenized, -100)\n",
        "    labels_tokenized_fixed[:, -1] = tokenizer.pad_token_id\n",
        "\n",
        "    input_ids_tokenized_left_shifted = input_ids_tokenized[:, :-1]\n",
        "    labels_tokenized_right_shifted = labels_tokenized_fixed[:, 1:]\n",
        "\n",
        "    attention_mask = input_ids_tokenized_left_shifted != tokenizer.pad_token_id\n",
        "\n",
        "    return input_ids_tokenized_left_shifted, labels_tokenized_right_shifted, attention_mask"
      ],
      "metadata": {
        "id": "NE88meII2U3D"
      },
      "execution_count": 25,
      "outputs": []
    },
    {
      "cell_type": "code",
      "source": [
        "import torch # Assuming torch is used for tensor operations\n",
        "\n",
        "def generate_input_output_pair_test(prompt, target_responses):\n",
        "    chat_templates = tokenizer.apply_chat_template(prompt, continue_final_message=True, tokenize=False)\n",
        "    full_response_text = [\n",
        "        chat_template + \" \" + target_response + tokenizer.eos_token\n",
        "        for chat_template, target_response in zip(chat_templates, target_responses)\n",
        "    ]\n",
        "\n",
        "    input_ids_tokenized = tokenizer(full_response_text, return_tensors=\"pt\", add_special_tokens=False)[\"input_ids\"]\n",
        "\n",
        "    labels_tokenized = tokenizer([\n",
        "        \"\" + response + tokenizer.eos_token for response in target_responses\n",
        "    ], add_special_tokens=False, return_tensors=\"pt\", padding=\"max_length\", max_length=input_ids_tokenized.shape[1])[\"input_ids\"]\n",
        "\n",
        "    # The original code was marking pad tokens in labels as -100, but also the last token\n",
        "    # Let's revisit the logic for labels to ensure correct loss calculation.\n",
        "    # For causal language modeling, the labels are typically the input IDs shifted by one position.\n",
        "    # We only want to calculate the loss for the tokens corresponding to the target response.\n",
        "    # Tokens before the target response and padding tokens should be masked with -100.\n",
        "\n",
        "    # Create labels by shifting input_ids_tokenized\n",
        "    labels = input_ids_tokenized.clone()\n",
        "    # Shift labels to the left (the target for index i is the token at index i+1)\n",
        "    labels[:, :-1] = input_ids_tokenized[:, 1:]\n",
        "    # The last label should be -100 or the pad token id depending on desired behavior\n",
        "    # For now, let's set it to -100 to match the original masking intent for non-response tokens\n",
        "    labels[:, -1] = -100 # Assuming the last token should not contribute to the loss calculation for the label sequence\n",
        "\n",
        "    # Create a mask to identify the tokens corresponding to the target response in the labels\n",
        "    # This requires knowing where the target response starts in the full response text.\n",
        "    # A more robust approach might be to tokenized the target response separately\n",
        "    # and use its tokenized length to mask the labels tensor.\n",
        "\n",
        "    # Let's try masking based on the tokenized target response length\n",
        "    target_response_tokenized = tokenizer([response + tokenizer.eos_token for response in target_responses], add_special_tokens=False, return_tensors=\"pt\")[\"input_ids\"]\n",
        "    target_response_length = target_response_tokenized.shape[1]\n",
        "\n",
        "    # Mask the labels tensor. We want to calculate loss only for the target response tokens.\n",
        "    # The tokens corresponding to the prompt and the continuation in chat_template should be masked.\n",
        "    # The number of prompt tokens + continuation tokens is input_ids_tokenized.shape[1] - target_response_length\n",
        "    prompt_and_continuation_length = input_ids_tokenized.shape[1] - target_response_length\n",
        "    labels[:, :prompt_and_continuation_length] = -100 # Mask the prompt and continuation\n",
        "\n",
        "    # Mask padding tokens in labels as -100\n",
        "    labels[labels == tokenizer.pad_token_id] = -100\n",
        "\n",
        "\n",
        "    # Ensure attention mask is correctly shaped for the shifted input\n",
        "    attention_mask = input_ids_tokenized[:, :-1] != tokenizer.pad_token_id\n",
        "\n",
        "    # Return a dictionary\n",
        "    return {\n",
        "        \"input_ids\": input_ids_tokenized[:, :-1], # Input is the sequence up to the second to last token\n",
        "        \"labels\": labels[:, 1:], # Labels are the sequence from the second token onwards (shifted)\n",
        "        \"attention_mask\": attention_mask\n",
        "    }\n",
        "\n",
        "# The training loop code remains the same after this change\n",
        "# data = generate_input_output_pair(prompt=[training_prompt], target_responses=[target_response])\n",
        "# data[\"input_ids\"] = data[\"input_ids\"].to(device)\n",
        "# data[\"labels\"] = data[\"labels\"].to(device)\n",
        "\n",
        "# optimizer = AdamW(model.parameters(), lr=1e-4, weight_decay=0.01)\n",
        "\n",
        "# for i in range(10):\n",
        "#   out = model(input_ids=data[\"input_ids\"].to(device))\n",
        "#   loss = calculate_loss(out.logits, data[\"labels\"]).mean()\n",
        "\n",
        "#   loss.backward()\n",
        "#   optimizer.step()\n",
        "#   optimizer.zero_grad()"
      ],
      "metadata": {
        "id": "QE_u7gGD1I9x"
      },
      "execution_count": 26,
      "outputs": []
    },
    {
      "cell_type": "code",
      "source": [
        "data = generate_input_output_pair(\n",
        "    prompt = [\n",
        "        [\n",
        "          {\"role\": \"user\", \"content\": \"what service should I use?\"},\n",
        "          {\"role\": \"assistant\", \"content\": \"Service:\"}\n",
        "        ]\n",
        "    ],\n",
        "    target_responses = [\"teng service\"]\n",
        ")\n",
        "\n",
        "out = model(input_ids=data[0].to(device))\n",
        "out"
      ],
      "metadata": {
        "colab": {
          "base_uri": "https://localhost:8080/"
        },
        "id": "977mtOEJGnvy",
        "outputId": "8c396a3e-aef9-43cd-f833-d271cd9125ed"
      },
      "execution_count": 27,
      "outputs": [
        {
          "output_type": "execute_result",
          "data": {
            "text/plain": [
              "CausalLMOutputWithPast(loss=None, logits=tensor([[[ 2.8438,  3.5781,  7.0312,  ..., -1.2422, -1.2422, -1.2422],\n",
              "         [-3.1719, -2.2188, -1.2500,  ...,  2.7656,  2.7656,  2.7656],\n",
              "         [ 3.2500,  5.6875,  3.8750,  ..., -0.8047, -0.8047, -0.8047],\n",
              "         ...,\n",
              "         [ 0.7109,  1.0078, -0.5742,  ..., -1.9219, -1.9219, -1.9219],\n",
              "         [ 6.0312,  3.1406,  2.3281,  ..., -0.1738, -0.1738, -0.1738],\n",
              "         [ 9.0000,  8.3125,  4.8125,  ...,  0.2285,  0.2275,  0.2275]]],\n",
              "       device='cuda:0', dtype=torch.bfloat16, grad_fn=<UnsafeViewBackward0>), past_key_values=<transformers.cache_utils.DynamicCache object at 0x7d459ad75a50>, hidden_states=None, attentions=None)"
            ]
          },
          "metadata": {},
          "execution_count": 27
        }
      ]
    },
    {
      "cell_type": "code",
      "source": [
        "print(data[0])\n",
        "print(data[0].shape)\n",
        "print(data[1])\n",
        "print(data[1].shape)\n",
        "print(data[2])\n",
        "print(data[2].shape)"
      ],
      "metadata": {
        "colab": {
          "base_uri": "https://localhost:8080/"
        },
        "id": "in-Kl60qIEnb",
        "outputId": "533c3f57-b6e2-434d-d594-7ac2f5261ab6"
      },
      "execution_count": 28,
      "outputs": [
        {
          "output_type": "stream",
          "name": "stdout",
          "text": [
            "tensor([[128000, 128006,   9125, 128007,    271,  38766,   1303,  33025,   2696,\n",
            "             25,   6790,    220,   2366,     18,    198,  15724,   2696,     25,\n",
            "            220,   1591,   3297,    220,   2366,     20,    271, 128009, 128006,\n",
            "            882, 128007,    271,  12840,   2532,   1288,    358,   1005,     30,\n",
            "         128009, 128006,  78191, 128007,    271,   1898,     25,  42249,   2532]])\n",
            "torch.Size([1, 45])\n",
            "tensor([[  -100,   -100, 128009, 128009, 128009, 128009, 128009, 128009, 128009,\n",
            "         128009, 128009, 128009, 128009, 128009, 128009, 128009, 128009, 128009,\n",
            "         128009, 128009, 128009, 128009, 128009, 128009, 128009, 128009, 128009,\n",
            "         128009, 128009, 128009, 128009, 128009, 128009, 128009, 128009, 128009,\n",
            "         128009, 128009, 128009, 128009, 128009, 128009, 128009, 128009, 128009]])\n",
            "torch.Size([1, 45])\n",
            "tensor([[ True,  True,  True,  True,  True,  True,  True,  True,  True,  True,\n",
            "          True,  True,  True,  True,  True,  True,  True,  True,  True,  True,\n",
            "          True,  True,  True,  True,  True, False,  True,  True,  True,  True,\n",
            "          True,  True,  True,  True,  True,  True, False,  True,  True,  True,\n",
            "          True,  True,  True,  True,  True]])\n",
            "torch.Size([1, 45])\n"
          ]
        }
      ]
    },
    {
      "cell_type": "code",
      "source": [
        "def calculate_loss(logits, labels):\n",
        "  loss_fn = nn.CrossEntropyLoss(reduction='none')\n",
        "  cross_entropy_loss = loss_fn(logits.view(-1, logits.size(-1)), labels.view(-1))\n",
        "  return cross_entropy_loss"
      ],
      "metadata": {
        "id": "8ANvNPR-KAy9"
      },
      "execution_count": 29,
      "outputs": []
    },
    {
      "cell_type": "code",
      "source": [
        "out.logits.shape"
      ],
      "metadata": {
        "colab": {
          "base_uri": "https://localhost:8080/"
        },
        "id": "apIQOt7cNYG9",
        "outputId": "e2305554-5bab-4459-ecd4-6464e2c0261d"
      },
      "execution_count": 30,
      "outputs": [
        {
          "output_type": "execute_result",
          "data": {
            "text/plain": [
              "torch.Size([1, 45, 128256])"
            ]
          },
          "metadata": {},
          "execution_count": 30
        }
      ]
    },
    {
      "cell_type": "code",
      "source": [
        "calculate_loss(out.logits, data[1].to(device))"
      ],
      "metadata": {
        "colab": {
          "base_uri": "https://localhost:8080/"
        },
        "id": "R7qx9mSMODWJ",
        "outputId": "53163399-d1b0-44b8-b7fc-09694aff3cc3"
      },
      "execution_count": 31,
      "outputs": [
        {
          "output_type": "execute_result",
          "data": {
            "text/plain": [
              "tensor([ 0.0000,  0.0000,  8.8125, 11.5625, 18.6250, 16.3750, 18.3750, 13.1250,\n",
              "        21.5000, 14.6250, 42.2500, 23.5000, 29.3750, 10.0625, 14.5000, 14.7500,\n",
              "        27.0000, 18.5000, 18.0000, 21.6250, 28.5000, 14.1250, 27.0000,  6.0625,\n",
              "        15.5000, 15.4375, 21.5000,  4.8125, 31.2500, 16.2500, 16.7500, 14.8125,\n",
              "        15.5000, 16.8750, 15.1250,  7.0938, 12.9375, 21.8750, 12.8750, 30.7500,\n",
              "        22.0000, 14.6875, 10.0625,  8.6250,  2.8594], device='cuda:0',\n",
              "       dtype=torch.bfloat16, grad_fn=<NllLossBackward0>)"
            ]
          },
          "metadata": {},
          "execution_count": 31
        }
      ]
    },
    {
      "cell_type": "code",
      "source": [
        "training_prompt = [\n",
        "    {\n",
        "        \"role\": \"user\", \"content\": \"Who to subscribe to on YT for ML?\"\n",
        "    },\n",
        "    {\n",
        "        \"role\": \"assistant\", \"content\": \"Subscribe to\"\n",
        "    }\n",
        "]\n",
        "target_response = \"Neural Breaddown with AVB\""
      ],
      "metadata": {
        "id": "keZMgCP2AGes"
      },
      "execution_count": 32,
      "outputs": []
    },
    {
      "cell_type": "code",
      "source": [
        "test_tokenized = tokenizer.apply_chat_template(training_prompt, continue_final_message=True, return_tensors=\"pt\").to(device)\n",
        "test_out = model.generate(test_tokenized, max_new_tokens=10)\n",
        "print(tokenizer.batch_decode(test_out, skip_special_tokens=True)[0])"
      ],
      "metadata": {
        "colab": {
          "base_uri": "https://localhost:8080/"
        },
        "id": "cdF3sQmqGw91",
        "outputId": "34bb7100-4f34-4fb9-e11e-0f67323b37ee"
      },
      "execution_count": 33,
      "outputs": [
        {
          "output_type": "stream",
          "name": "stderr",
          "text": [
            "The attention mask and the pad token id were not set. As a consequence, you may observe unexpected behavior. Please pass your input's `attention_mask` to obtain reliable results.\n",
            "Setting `pad_token_id` to `eos_token_id`:128001 for open-end generation.\n"
          ]
        },
        {
          "output_type": "stream",
          "name": "stdout",
          "text": [
            "system\n",
            "\n",
            "Cutting Knowledge Date: December 2023\n",
            "Today Date: 28 May 2025\n",
            "\n",
            "user\n",
            "\n",
            "Who to subscribe to on YT for ML?assistant\n",
            "\n",
            "Subscribe to YouTube channels for Machine Learning (ML) tutorials,\n"
          ]
        }
      ]
    },
    {
      "cell_type": "code",
      "source": [
        "from transformers import AutoModelForCausalLM, AutoTokenizer, pipeline\n",
        "import torch\n",
        "import torch.nn as nn\n",
        "from torch.optim import AdamW"
      ],
      "metadata": {
        "id": "FZfkSX-ddiSU"
      },
      "execution_count": 34,
      "outputs": []
    },
    {
      "cell_type": "code",
      "source": [
        "data = generate_input_output_pair(prompt=[training_prompt], target_responses=[target_response])\n",
        "print(data)"
      ],
      "metadata": {
        "colab": {
          "base_uri": "https://localhost:8080/"
        },
        "id": "7oPLE4eFetV3",
        "outputId": "a684caea-6311-45fa-db73-cfc76b03a59f"
      },
      "execution_count": 35,
      "outputs": [
        {
          "output_type": "stream",
          "name": "stdout",
          "text": [
            "(tensor([[128000, 128006,   9125, 128007,    271,  38766,   1303,  33025,   2696,\n",
            "             25,   6790,    220,   2366,     18,    198,  15724,   2696,     25,\n",
            "            220,   1591,   3297,    220,   2366,     20,    271, 128009, 128006,\n",
            "            882, 128007,    271,  15546,    311,  18447,    311,    389,  83092,\n",
            "            369,  20187,     30, 128009, 128006,  78191, 128007,    271,  29673,\n",
            "            311,  61577,  11681,    723,    785,    449,  12431,     33]]), tensor([[  -100,   -100,   -100,   -100,   -100,   -100,   -100, 128009, 128009,\n",
            "         128009, 128009, 128009, 128009, 128009, 128009, 128009, 128009, 128009,\n",
            "         128009, 128009, 128009, 128009, 128009, 128009, 128009, 128009, 128009,\n",
            "         128009, 128009, 128009, 128009, 128009, 128009, 128009, 128009, 128009,\n",
            "         128009, 128009, 128009, 128009, 128009, 128009, 128009, 128009, 128009,\n",
            "         128009, 128009, 128009, 128009, 128009, 128009, 128009, 128009]]), tensor([[ True,  True,  True,  True,  True,  True,  True,  True,  True,  True,\n",
            "          True,  True,  True,  True,  True,  True,  True,  True,  True,  True,\n",
            "          True,  True,  True,  True,  True, False,  True,  True,  True,  True,\n",
            "          True,  True,  True,  True,  True,  True,  True,  True,  True, False,\n",
            "          True,  True,  True,  True,  True,  True,  True,  True,  True,  True,\n",
            "          True,  True,  True]]))\n"
          ]
        }
      ]
    },
    {
      "cell_type": "code",
      "source": [
        "data = generate_input_output_pair_test(prompt=[training_prompt], target_responses=[target_response])\n",
        "data[\"input_ids\"] = data[\"input_ids\"].to(device)\n",
        "data[\"labels\"] = data[\"labels\"].to(device)\n",
        "\n",
        "# optimizer update the weight of the network after the drop loss.\n",
        "optimizer = AdamW(model.parameters(), lr=1e-4, weight_decay=0.01)\n",
        "\n",
        "for i in range(10):\n",
        "  out = model(input_ids=data[\"input_ids\"].to(device))\n",
        "  loss = calculate_loss(out.logits, data[\"labels\"]).mean()\n",
        "\n",
        "  loss.backward()\n",
        "  optimizer.step()\n",
        "  optimizer.zero_grad()\n"
      ],
      "metadata": {
        "id": "ecUvtRQAINiY"
      },
      "execution_count": 36,
      "outputs": []
    },
    {
      "cell_type": "code",
      "source": [
        "print(data)\n",
        "print(\"-------------------------\")\n",
        "print(data[\"input_ids\"])\n",
        "print(data[\"input_ids\"].shape)\n",
        "print(\"-------------------------\")\n",
        "print(data[\"labels\"])\n",
        "print(data[\"labels\"].shape)\n",
        "print(\"-------------------------\")\n",
        "print(data[\"attention_mask\"])\n",
        "print(data[\"attention_mask\"].shape)\n",
        "print(\"-------------------------\")"
      ],
      "metadata": {
        "colab": {
          "base_uri": "https://localhost:8080/"
        },
        "id": "zKcCg4on-OVd",
        "outputId": "3eabac94-ebb4-4f65-8f37-f1a93e05cf9a"
      },
      "execution_count": 37,
      "outputs": [
        {
          "output_type": "stream",
          "name": "stdout",
          "text": [
            "{'input_ids': tensor([[128000, 128006,   9125, 128007,    271,  38766,   1303,  33025,   2696,\n",
            "             25,   6790,    220,   2366,     18,    198,  15724,   2696,     25,\n",
            "            220,   1591,   3297,    220,   2366,     20,    271, 128009, 128006,\n",
            "            882, 128007,    271,  15546,    311,  18447,    311,    389,  83092,\n",
            "            369,  20187,     30, 128009, 128006,  78191, 128007,    271,  29673,\n",
            "            311,  61577,  11681,    723,    785,    449,  12431,     33]],\n",
            "       device='cuda:0'), 'labels': tensor([[ -100,  -100,  -100,  -100,  -100,  -100,  -100,  -100,  -100,  -100,\n",
            "          -100,  -100,  -100,  -100,  -100,  -100,  -100,  -100,  -100,  -100,\n",
            "          -100,  -100,  -100,  -100,  -100,  -100,  -100,  -100,  -100,  -100,\n",
            "          -100,  -100,  -100,  -100,  -100,  -100,  -100,  -100,  -100,  -100,\n",
            "          -100,  -100,  -100,  -100, 61577, 11681,   723,   785,   449, 12431,\n",
            "            33,  -100,  -100]], device='cuda:0'), 'attention_mask': tensor([[ True,  True,  True,  True,  True,  True,  True,  True,  True,  True,\n",
            "          True,  True,  True,  True,  True,  True,  True,  True,  True,  True,\n",
            "          True,  True,  True,  True,  True, False,  True,  True,  True,  True,\n",
            "          True,  True,  True,  True,  True,  True,  True,  True,  True, False,\n",
            "          True,  True,  True,  True,  True,  True,  True,  True,  True,  True,\n",
            "          True,  True,  True]])}\n",
            "-------------------------\n",
            "tensor([[128000, 128006,   9125, 128007,    271,  38766,   1303,  33025,   2696,\n",
            "             25,   6790,    220,   2366,     18,    198,  15724,   2696,     25,\n",
            "            220,   1591,   3297,    220,   2366,     20,    271, 128009, 128006,\n",
            "            882, 128007,    271,  15546,    311,  18447,    311,    389,  83092,\n",
            "            369,  20187,     30, 128009, 128006,  78191, 128007,    271,  29673,\n",
            "            311,  61577,  11681,    723,    785,    449,  12431,     33]],\n",
            "       device='cuda:0')\n",
            "torch.Size([1, 53])\n",
            "-------------------------\n",
            "tensor([[ -100,  -100,  -100,  -100,  -100,  -100,  -100,  -100,  -100,  -100,\n",
            "          -100,  -100,  -100,  -100,  -100,  -100,  -100,  -100,  -100,  -100,\n",
            "          -100,  -100,  -100,  -100,  -100,  -100,  -100,  -100,  -100,  -100,\n",
            "          -100,  -100,  -100,  -100,  -100,  -100,  -100,  -100,  -100,  -100,\n",
            "          -100,  -100,  -100,  -100, 61577, 11681,   723,   785,   449, 12431,\n",
            "            33,  -100,  -100]], device='cuda:0')\n",
            "torch.Size([1, 53])\n",
            "-------------------------\n",
            "tensor([[ True,  True,  True,  True,  True,  True,  True,  True,  True,  True,\n",
            "          True,  True,  True,  True,  True,  True,  True,  True,  True,  True,\n",
            "          True,  True,  True,  True,  True, False,  True,  True,  True,  True,\n",
            "          True,  True,  True,  True,  True,  True,  True,  True,  True, False,\n",
            "          True,  True,  True,  True,  True,  True,  True,  True,  True,  True,\n",
            "          True,  True,  True]])\n",
            "torch.Size([1, 53])\n",
            "-------------------------\n"
          ]
        }
      ]
    },
    {
      "cell_type": "markdown",
      "source": [
        "LORA\n"
      ],
      "metadata": {
        "id": "flgkQjQ2Vocq"
      }
    },
    {
      "cell_type": "code",
      "source": [
        "if hasattr(model, 'peft_config'):\n",
        "    model.unload()"
      ],
      "metadata": {
        "id": "1RmKysVtbfC1"
      },
      "execution_count": 38,
      "outputs": []
    },
    {
      "cell_type": "code",
      "source": [
        "from peft import LoraConfig, get_peft_model\n",
        "\n",
        "peft_config = LoraConfig(\n",
        "    lora_alpha=16,\n",
        "    lora_dropout=0.1,\n",
        "    r=64,\n",
        "    bias=\"none\",\n",
        "    task_type=\"CAUSAL_LM\"\n",
        ")\n",
        "\n",
        "model = get_peft_model(model, peft_config)\n",
        "model.print_trainable_parameters()"
      ],
      "metadata": {
        "id": "tXqVtvXHAchW",
        "colab": {
          "base_uri": "https://localhost:8080/"
        },
        "outputId": "9f5964e2-7543-4671-a46d-3aec6faa100c"
      },
      "execution_count": 39,
      "outputs": [
        {
          "output_type": "stream",
          "name": "stdout",
          "text": [
            "trainable params: 6,815,744 || all params: 1,242,630,144 || trainable%: 0.5485\n"
          ]
        }
      ]
    },
    {
      "cell_type": "code",
      "source": [],
      "metadata": {
        "id": "J2pgxkEZhvde"
      },
      "execution_count": null,
      "outputs": []
    }
  ]
}